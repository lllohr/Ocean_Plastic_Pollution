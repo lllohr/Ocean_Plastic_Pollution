{
 "cells": [
  {
   "cell_type": "code",
   "execution_count": 1,
   "id": "991c3ad6",
   "metadata": {},
   "outputs": [],
   "source": [
    "import numpy as np\n",
    "import pandas as pd\n",
    "from pathlib import Path\n",
    "from collections import Counter\n",
    "import matplotlib.pyplot as plt\n"
   ]
  },
  {
   "cell_type": "code",
   "execution_count": 2,
   "id": "ee5f8a3e",
   "metadata": {},
   "outputs": [],
   "source": [
    "from sklearn.metrics import balanced_accuracy_score\n",
    "from sklearn.metrics import confusion_matrix\n",
    "from imblearn.metrics import classification_report_imbalanced\n",
    "from sklearn.linear_model import LinearRegression"
   ]
  },
  {
   "cell_type": "code",
   "execution_count": null,
   "id": "a2159356",
   "metadata": {},
   "outputs": [],
   "source": [
    "# Import .csv file and load the data\n",
    "# df = pd.read_csv(Path('./Resources/Salary_Data.csv'))\n",
    "# df.head()\n",
    "# file_path = Path(\"Resources/LoanStats_2019Q1.csv\")\n",
    "# df = pd.read_csv(file_path, skiprows=1)[:-2]\n",
    "# df = df.loc[:, columns].copy()"
   ]
  },
  {
   "cell_type": "code",
   "execution_count": null,
   "id": "c82c488e",
   "metadata": {},
   "outputs": [],
   "source": [
    "# Drop the null columns where all values are null\n",
    "df = df.dropna(axis='columns', how='all')\n",
    "\n",
    "# Drop the null rows\n",
    "df = df.dropna()"
   ]
  },
  {
   "cell_type": "code",
   "execution_count": null,
   "id": "d09ef144",
   "metadata": {},
   "outputs": [],
   "source": [
    "# Inspect the relationship between variables\n",
    "# plt.scatter(df.YearsExperience, df.Salary)\n",
    "# plt.xlabel('Years of Experience')\n",
    "# plt.ylabel('Salary in USD')\n",
    "# plt.show()"
   ]
  },
  {
   "cell_type": "code",
   "execution_count": null,
   "id": "9f080b1c",
   "metadata": {},
   "outputs": [],
   "source": []
  }
 ],
 "metadata": {
  "kernelspec": {
   "display_name": "mlenv",
   "language": "python",
   "name": "mlenv"
  },
  "language_info": {
   "codemirror_mode": {
    "name": "ipython",
    "version": 3
   },
   "file_extension": ".py",
   "mimetype": "text/x-python",
   "name": "python",
   "nbconvert_exporter": "python",
   "pygments_lexer": "ipython3",
   "version": "3.7.13"
  }
 },
 "nbformat": 4,
 "nbformat_minor": 5
}
