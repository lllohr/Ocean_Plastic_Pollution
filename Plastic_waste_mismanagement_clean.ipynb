{
 "cells": [
  {
   "cell_type": "code",
   "execution_count": 1,
   "id": "ec451cbf",
   "metadata": {},
   "outputs": [],
   "source": [
    "import pandas as pd"
   ]
  },
  {
   "cell_type": "code",
   "execution_count": 2,
   "id": "4db37396",
   "metadata": {},
   "outputs": [
    {
     "data": {
      "text/html": [
       "<div>\n",
       "<style scoped>\n",
       "    .dataframe tbody tr th:only-of-type {\n",
       "        vertical-align: middle;\n",
       "    }\n",
       "\n",
       "    .dataframe tbody tr th {\n",
       "        vertical-align: top;\n",
       "    }\n",
       "\n",
       "    .dataframe thead th {\n",
       "        text-align: right;\n",
       "    }\n",
       "</style>\n",
       "<table border=\"1\" class=\"dataframe\">\n",
       "  <thead>\n",
       "    <tr style=\"text-align: right;\">\n",
       "      <th></th>\n",
       "      <th>Entity</th>\n",
       "      <th>Code</th>\n",
       "      <th>Year</th>\n",
       "      <th>Mismanaged plastic waste (metric tons year-1)</th>\n",
       "    </tr>\n",
       "  </thead>\n",
       "  <tbody>\n",
       "    <tr>\n",
       "      <th>0</th>\n",
       "      <td>Africa</td>\n",
       "      <td>NaN</td>\n",
       "      <td>2019</td>\n",
       "      <td>13690104</td>\n",
       "    </tr>\n",
       "    <tr>\n",
       "      <th>1</th>\n",
       "      <td>Albania</td>\n",
       "      <td>ALB</td>\n",
       "      <td>2019</td>\n",
       "      <td>69833</td>\n",
       "    </tr>\n",
       "    <tr>\n",
       "      <th>2</th>\n",
       "      <td>Algeria</td>\n",
       "      <td>DZA</td>\n",
       "      <td>2019</td>\n",
       "      <td>764578</td>\n",
       "    </tr>\n",
       "    <tr>\n",
       "      <th>3</th>\n",
       "      <td>Angola</td>\n",
       "      <td>AGO</td>\n",
       "      <td>2019</td>\n",
       "      <td>236946</td>\n",
       "    </tr>\n",
       "    <tr>\n",
       "      <th>4</th>\n",
       "      <td>Antigua and Barbuda</td>\n",
       "      <td>ATG</td>\n",
       "      <td>2019</td>\n",
       "      <td>627</td>\n",
       "    </tr>\n",
       "  </tbody>\n",
       "</table>\n",
       "</div>"
      ],
      "text/plain": [
       "                Entity Code  Year  \\\n",
       "0               Africa  NaN  2019   \n",
       "1              Albania  ALB  2019   \n",
       "2              Algeria  DZA  2019   \n",
       "3               Angola  AGO  2019   \n",
       "4  Antigua and Barbuda  ATG  2019   \n",
       "\n",
       "   Mismanaged plastic waste (metric tons year-1)  \n",
       "0                                       13690104  \n",
       "1                                          69833  \n",
       "2                                         764578  \n",
       "3                                         236946  \n",
       "4                                            627  "
      ]
     },
     "execution_count": 2,
     "metadata": {},
     "output_type": "execute_result"
    }
   ],
   "source": [
    "# 1. Create a DataFrame for plastic waste mismangement. \n",
    "plastic_waste_df = pd.read_csv(\"Resources/plastic_waste_mismanaged.csv\")\n",
    "plastic_waste_df.head()"
   ]
  },
  {
   "cell_type": "code",
   "execution_count": 3,
   "id": "f875e7b8",
   "metadata": {},
   "outputs": [
    {
     "data": {
      "text/plain": [
       "Entity                                           object\n",
       "Code                                             object\n",
       "Year                                              int64\n",
       "Mismanaged plastic waste (metric tons year-1)     int64\n",
       "dtype: object"
      ]
     },
     "execution_count": 3,
     "metadata": {},
     "output_type": "execute_result"
    }
   ],
   "source": [
    "# 2. Check the datatypes of your columns. \n",
    "plastic_waste_df.dtypes"
   ]
  },
  {
   "cell_type": "code",
   "execution_count": 4,
   "id": "c5a169b4",
   "metadata": {},
   "outputs": [
    {
     "data": {
      "text/plain": [
       "Entity                                           171\n",
       "Code                                             160\n",
       "Year                                             171\n",
       "Mismanaged plastic waste (metric tons year-1)    171\n",
       "dtype: int64"
      ]
     },
     "execution_count": 4,
     "metadata": {},
     "output_type": "execute_result"
    }
   ],
   "source": [
    "#Get the columns and rows that are not null\n",
    "plastic_waste_df.count()"
   ]
  },
  {
   "cell_type": "code",
   "execution_count": 5,
   "id": "26f50992",
   "metadata": {},
   "outputs": [
    {
     "data": {
      "text/plain": [
       "Entity                                            0\n",
       "Code                                             11\n",
       "Year                                              0\n",
       "Mismanaged plastic waste (metric tons year-1)     0\n",
       "dtype: int64"
      ]
     },
     "execution_count": 5,
     "metadata": {},
     "output_type": "execute_result"
    }
   ],
   "source": [
    "#Determine if there any missing values\n",
    "plastic_waste_df.isnull().sum()"
   ]
  },
  {
   "cell_type": "code",
   "execution_count": 6,
   "id": "0ff75d88",
   "metadata": {},
   "outputs": [
    {
     "data": {
      "text/html": [
       "<div>\n",
       "<style scoped>\n",
       "    .dataframe tbody tr th:only-of-type {\n",
       "        vertical-align: middle;\n",
       "    }\n",
       "\n",
       "    .dataframe tbody tr th {\n",
       "        vertical-align: top;\n",
       "    }\n",
       "\n",
       "    .dataframe thead th {\n",
       "        text-align: right;\n",
       "    }\n",
       "</style>\n",
       "<table border=\"1\" class=\"dataframe\">\n",
       "  <thead>\n",
       "    <tr style=\"text-align: right;\">\n",
       "      <th></th>\n",
       "      <th>Entity</th>\n",
       "      <th>Code</th>\n",
       "      <th>Year</th>\n",
       "      <th>Mismanaged plastic waste (metric tons year-1)</th>\n",
       "    </tr>\n",
       "  </thead>\n",
       "  <tbody>\n",
       "    <tr>\n",
       "      <th>0</th>\n",
       "      <td>Africa</td>\n",
       "      <td>NaN</td>\n",
       "      <td>2019</td>\n",
       "      <td>13690104</td>\n",
       "    </tr>\n",
       "    <tr>\n",
       "      <th>1</th>\n",
       "      <td>Albania</td>\n",
       "      <td>ALB</td>\n",
       "      <td>2019</td>\n",
       "      <td>69833</td>\n",
       "    </tr>\n",
       "    <tr>\n",
       "      <th>2</th>\n",
       "      <td>Algeria</td>\n",
       "      <td>DZA</td>\n",
       "      <td>2019</td>\n",
       "      <td>764578</td>\n",
       "    </tr>\n",
       "    <tr>\n",
       "      <th>3</th>\n",
       "      <td>Angola</td>\n",
       "      <td>AGO</td>\n",
       "      <td>2019</td>\n",
       "      <td>236946</td>\n",
       "    </tr>\n",
       "    <tr>\n",
       "      <th>4</th>\n",
       "      <td>Antigua and Barbuda</td>\n",
       "      <td>ATG</td>\n",
       "      <td>2019</td>\n",
       "      <td>627</td>\n",
       "    </tr>\n",
       "  </tbody>\n",
       "</table>\n",
       "</div>"
      ],
      "text/plain": [
       "                Entity Code  Year  \\\n",
       "0               Africa  NaN  2019   \n",
       "1              Albania  ALB  2019   \n",
       "2              Algeria  DZA  2019   \n",
       "3               Angola  AGO  2019   \n",
       "4  Antigua and Barbuda  ATG  2019   \n",
       "\n",
       "   Mismanaged plastic waste (metric tons year-1)  \n",
       "0                                       13690104  \n",
       "1                                          69833  \n",
       "2                                         764578  \n",
       "3                                         236946  \n",
       "4                                            627  "
      ]
     },
     "execution_count": 6,
     "metadata": {},
     "output_type": "execute_result"
    }
   ],
   "source": [
    "\n",
    "plastic_waste_df.head()"
   ]
  },
  {
   "cell_type": "code",
   "execution_count": 7,
   "id": "dd57287b",
   "metadata": {},
   "outputs": [
    {
     "data": {
      "text/html": [
       "<div>\n",
       "<style scoped>\n",
       "    .dataframe tbody tr th:only-of-type {\n",
       "        vertical-align: middle;\n",
       "    }\n",
       "\n",
       "    .dataframe tbody tr th {\n",
       "        vertical-align: top;\n",
       "    }\n",
       "\n",
       "    .dataframe thead th {\n",
       "        text-align: right;\n",
       "    }\n",
       "</style>\n",
       "<table border=\"1\" class=\"dataframe\">\n",
       "  <thead>\n",
       "    <tr style=\"text-align: right;\">\n",
       "      <th></th>\n",
       "      <th>Country</th>\n",
       "      <th>Code</th>\n",
       "      <th>Year</th>\n",
       "      <th>PlasticWaste(metric tons)</th>\n",
       "    </tr>\n",
       "  </thead>\n",
       "  <tbody>\n",
       "    <tr>\n",
       "      <th>0</th>\n",
       "      <td>Africa</td>\n",
       "      <td>NaN</td>\n",
       "      <td>2019</td>\n",
       "      <td>13690104</td>\n",
       "    </tr>\n",
       "    <tr>\n",
       "      <th>1</th>\n",
       "      <td>Albania</td>\n",
       "      <td>ALB</td>\n",
       "      <td>2019</td>\n",
       "      <td>69833</td>\n",
       "    </tr>\n",
       "    <tr>\n",
       "      <th>2</th>\n",
       "      <td>Algeria</td>\n",
       "      <td>DZA</td>\n",
       "      <td>2019</td>\n",
       "      <td>764578</td>\n",
       "    </tr>\n",
       "    <tr>\n",
       "      <th>3</th>\n",
       "      <td>Angola</td>\n",
       "      <td>AGO</td>\n",
       "      <td>2019</td>\n",
       "      <td>236946</td>\n",
       "    </tr>\n",
       "    <tr>\n",
       "      <th>4</th>\n",
       "      <td>Antigua and Barbuda</td>\n",
       "      <td>ATG</td>\n",
       "      <td>2019</td>\n",
       "      <td>627</td>\n",
       "    </tr>\n",
       "  </tbody>\n",
       "</table>\n",
       "</div>"
      ],
      "text/plain": [
       "               Country Code  Year  PlasticWaste(metric tons)\n",
       "0               Africa  NaN  2019                   13690104\n",
       "1              Albania  ALB  2019                      69833\n",
       "2              Algeria  DZA  2019                     764578\n",
       "3               Angola  AGO  2019                     236946\n",
       "4  Antigua and Barbuda  ATG  2019                        627"
      ]
     },
     "execution_count": 7,
     "metadata": {},
     "output_type": "execute_result"
    }
   ],
   "source": [
    "#Rename Columns\n",
    "plastic_waste_df.rename(columns={\"Entity\":\"Country\", \"Mismanaged plastic waste (metric tons year-1)\": \"PlasticWaste(metric tons)\"}, inplace =True)\n",
    "plastic_waste_df.head()"
   ]
  },
  {
   "cell_type": "code",
   "execution_count": 8,
   "id": "a45dff55",
   "metadata": {},
   "outputs": [],
   "source": [
    "# Export dataframe as a new CSV file\n",
    "plastic_waste_df.to_csv(\"Resources/Plastic_waste_mismanagement_clean.csv\", index=False)"
   ]
  },
  {
   "cell_type": "code",
   "execution_count": null,
   "id": "5a1008f0",
   "metadata": {},
   "outputs": [],
   "source": []
  }
 ],
 "metadata": {
  "kernelspec": {
   "display_name": "Python 3 (ipykernel)",
   "language": "python",
   "name": "python3"
  },
  "language_info": {
   "codemirror_mode": {
    "name": "ipython",
    "version": 3
   },
   "file_extension": ".py",
   "mimetype": "text/x-python",
   "name": "python",
   "nbconvert_exporter": "python",
   "pygments_lexer": "ipython3",
   "version": "3.7.11"
  }
 },
 "nbformat": 4,
 "nbformat_minor": 5
}
