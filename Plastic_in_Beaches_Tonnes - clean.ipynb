{
 "cells": [
  {
   "cell_type": "code",
   "execution_count": 1,
   "id": "0521740a",
   "metadata": {},
   "outputs": [],
   "source": [
    "import pandas as pd\n",
    "import os\n",
    "import matplotlib.pyplot as plt"
   ]
  },
  {
   "cell_type": "code",
   "execution_count": 2,
   "id": "7a30862e",
   "metadata": {},
   "outputs": [
    {
     "data": {
      "text/html": [
       "<div>\n",
       "<style scoped>\n",
       "    .dataframe tbody tr th:only-of-type {\n",
       "        vertical-align: middle;\n",
       "    }\n",
       "\n",
       "    .dataframe tbody tr th {\n",
       "        vertical-align: top;\n",
       "    }\n",
       "\n",
       "    .dataframe thead th {\n",
       "        text-align: right;\n",
       "    }\n",
       "</style>\n",
       "<table border=\"1\" class=\"dataframe\">\n",
       "  <thead>\n",
       "    <tr style=\"text-align: right;\">\n",
       "      <th></th>\n",
       "      <th>INDICATOR NAME (unit)</th>\n",
       "      <th>COUNTRY NAME</th>\n",
       "      <th>YEAR</th>\n",
       "      <th>VALUE</th>\n",
       "    </tr>\n",
       "  </thead>\n",
       "  <tbody>\n",
       "    <tr>\n",
       "      <th>0</th>\n",
       "      <td>Beach litter originating from national land-ba...</td>\n",
       "      <td>Albania</td>\n",
       "      <td>2017</td>\n",
       "      <td>16481.0</td>\n",
       "    </tr>\n",
       "    <tr>\n",
       "      <th>1</th>\n",
       "      <td>Beach litter originating from national land-ba...</td>\n",
       "      <td>Albania</td>\n",
       "      <td>2018</td>\n",
       "      <td>18094.0</td>\n",
       "    </tr>\n",
       "    <tr>\n",
       "      <th>2</th>\n",
       "      <td>Beach litter originating from national land-ba...</td>\n",
       "      <td>Albania</td>\n",
       "      <td>2019</td>\n",
       "      <td>18500.0</td>\n",
       "    </tr>\n",
       "    <tr>\n",
       "      <th>3</th>\n",
       "      <td>Beach litter originating from national land-ba...</td>\n",
       "      <td>Albania</td>\n",
       "      <td>2020</td>\n",
       "      <td>20157.0</td>\n",
       "    </tr>\n",
       "    <tr>\n",
       "      <th>4</th>\n",
       "      <td>Beach litter originating from national land-ba...</td>\n",
       "      <td>Albania</td>\n",
       "      <td>2021</td>\n",
       "      <td>19828.0</td>\n",
       "    </tr>\n",
       "    <tr>\n",
       "      <th>...</th>\n",
       "      <td>...</td>\n",
       "      <td>...</td>\n",
       "      <td>...</td>\n",
       "      <td>...</td>\n",
       "    </tr>\n",
       "    <tr>\n",
       "      <th>695</th>\n",
       "      <td>Beach litter originating from national land-ba...</td>\n",
       "      <td>Yemen</td>\n",
       "      <td>2017</td>\n",
       "      <td>30194.0</td>\n",
       "    </tr>\n",
       "    <tr>\n",
       "      <th>696</th>\n",
       "      <td>Beach litter originating from national land-ba...</td>\n",
       "      <td>Yemen</td>\n",
       "      <td>2018</td>\n",
       "      <td>34205.0</td>\n",
       "    </tr>\n",
       "    <tr>\n",
       "      <th>697</th>\n",
       "      <td>Beach litter originating from national land-ba...</td>\n",
       "      <td>Yemen</td>\n",
       "      <td>2019</td>\n",
       "      <td>35625.0</td>\n",
       "    </tr>\n",
       "    <tr>\n",
       "      <th>698</th>\n",
       "      <td>Beach litter originating from national land-ba...</td>\n",
       "      <td>Yemen</td>\n",
       "      <td>2020</td>\n",
       "      <td>36032.0</td>\n",
       "    </tr>\n",
       "    <tr>\n",
       "      <th>699</th>\n",
       "      <td>Beach litter originating from national land-ba...</td>\n",
       "      <td>Yemen</td>\n",
       "      <td>2021</td>\n",
       "      <td>36954.0</td>\n",
       "    </tr>\n",
       "  </tbody>\n",
       "</table>\n",
       "<p>700 rows × 4 columns</p>\n",
       "</div>"
      ],
      "text/plain": [
       "                                 INDICATOR NAME (unit) COUNTRY NAME  YEAR  \\\n",
       "0    Beach litter originating from national land-ba...      Albania  2017   \n",
       "1    Beach litter originating from national land-ba...      Albania  2018   \n",
       "2    Beach litter originating from national land-ba...      Albania  2019   \n",
       "3    Beach litter originating from national land-ba...      Albania  2020   \n",
       "4    Beach litter originating from national land-ba...      Albania  2021   \n",
       "..                                                 ...          ...   ...   \n",
       "695  Beach litter originating from national land-ba...        Yemen  2017   \n",
       "696  Beach litter originating from national land-ba...        Yemen  2018   \n",
       "697  Beach litter originating from national land-ba...        Yemen  2019   \n",
       "698  Beach litter originating from national land-ba...        Yemen  2020   \n",
       "699  Beach litter originating from national land-ba...        Yemen  2021   \n",
       "\n",
       "       VALUE  \n",
       "0    16481.0  \n",
       "1    18094.0  \n",
       "2    18500.0  \n",
       "3    20157.0  \n",
       "4    19828.0  \n",
       "..       ...  \n",
       "695  30194.0  \n",
       "696  34205.0  \n",
       "697  35625.0  \n",
       "698  36032.0  \n",
       "699  36954.0  \n",
       "\n",
       "[700 rows x 4 columns]"
      ]
     },
     "execution_count": 2,
     "metadata": {},
     "output_type": "execute_result"
    }
   ],
   "source": [
    "pd.read_csv('./Resources/Plastic_in_Beach_Tonnes.csv', header=3)"
   ]
  },
  {
   "cell_type": "code",
   "execution_count": 3,
   "id": "2e6883b5",
   "metadata": {},
   "outputs": [
    {
     "data": {
      "text/plain": [
       "'.\\\\Resources\\\\Plastic_in_Beach_Tonnes.csv'"
      ]
     },
     "execution_count": 3,
     "metadata": {},
     "output_type": "execute_result"
    }
   ],
   "source": [
    "plastic_load = os.path.join('.','Resources', 'Plastic_in_Beach_Tonnes.csv')\n",
    "plastic_load"
   ]
  },
  {
   "cell_type": "code",
   "execution_count": 4,
   "id": "a110fba9",
   "metadata": {},
   "outputs": [
    {
     "data": {
      "text/html": [
       "<div>\n",
       "<style scoped>\n",
       "    .dataframe tbody tr th:only-of-type {\n",
       "        vertical-align: middle;\n",
       "    }\n",
       "\n",
       "    .dataframe tbody tr th {\n",
       "        vertical-align: top;\n",
       "    }\n",
       "\n",
       "    .dataframe thead th {\n",
       "        text-align: right;\n",
       "    }\n",
       "</style>\n",
       "<table border=\"1\" class=\"dataframe\">\n",
       "  <thead>\n",
       "    <tr style=\"text-align: right;\">\n",
       "      <th></th>\n",
       "      <th>INDICATOR NAME (unit)</th>\n",
       "      <th>COUNTRY NAME</th>\n",
       "      <th>YEAR</th>\n",
       "      <th>VALUE</th>\n",
       "    </tr>\n",
       "  </thead>\n",
       "  <tbody>\n",
       "    <tr>\n",
       "      <th>0</th>\n",
       "      <td>Beach litter originating from national land-ba...</td>\n",
       "      <td>Albania</td>\n",
       "      <td>2017</td>\n",
       "      <td>16481.0</td>\n",
       "    </tr>\n",
       "    <tr>\n",
       "      <th>1</th>\n",
       "      <td>Beach litter originating from national land-ba...</td>\n",
       "      <td>Albania</td>\n",
       "      <td>2018</td>\n",
       "      <td>18094.0</td>\n",
       "    </tr>\n",
       "    <tr>\n",
       "      <th>2</th>\n",
       "      <td>Beach litter originating from national land-ba...</td>\n",
       "      <td>Albania</td>\n",
       "      <td>2019</td>\n",
       "      <td>18500.0</td>\n",
       "    </tr>\n",
       "    <tr>\n",
       "      <th>3</th>\n",
       "      <td>Beach litter originating from national land-ba...</td>\n",
       "      <td>Albania</td>\n",
       "      <td>2020</td>\n",
       "      <td>20157.0</td>\n",
       "    </tr>\n",
       "    <tr>\n",
       "      <th>4</th>\n",
       "      <td>Beach litter originating from national land-ba...</td>\n",
       "      <td>Albania</td>\n",
       "      <td>2021</td>\n",
       "      <td>19828.0</td>\n",
       "    </tr>\n",
       "    <tr>\n",
       "      <th>...</th>\n",
       "      <td>...</td>\n",
       "      <td>...</td>\n",
       "      <td>...</td>\n",
       "      <td>...</td>\n",
       "    </tr>\n",
       "    <tr>\n",
       "      <th>695</th>\n",
       "      <td>Beach litter originating from national land-ba...</td>\n",
       "      <td>Yemen</td>\n",
       "      <td>2017</td>\n",
       "      <td>30194.0</td>\n",
       "    </tr>\n",
       "    <tr>\n",
       "      <th>696</th>\n",
       "      <td>Beach litter originating from national land-ba...</td>\n",
       "      <td>Yemen</td>\n",
       "      <td>2018</td>\n",
       "      <td>34205.0</td>\n",
       "    </tr>\n",
       "    <tr>\n",
       "      <th>697</th>\n",
       "      <td>Beach litter originating from national land-ba...</td>\n",
       "      <td>Yemen</td>\n",
       "      <td>2019</td>\n",
       "      <td>35625.0</td>\n",
       "    </tr>\n",
       "    <tr>\n",
       "      <th>698</th>\n",
       "      <td>Beach litter originating from national land-ba...</td>\n",
       "      <td>Yemen</td>\n",
       "      <td>2020</td>\n",
       "      <td>36032.0</td>\n",
       "    </tr>\n",
       "    <tr>\n",
       "      <th>699</th>\n",
       "      <td>Beach litter originating from national land-ba...</td>\n",
       "      <td>Yemen</td>\n",
       "      <td>2021</td>\n",
       "      <td>36954.0</td>\n",
       "    </tr>\n",
       "  </tbody>\n",
       "</table>\n",
       "<p>700 rows × 4 columns</p>\n",
       "</div>"
      ],
      "text/plain": [
       "                                 INDICATOR NAME (unit) COUNTRY NAME  YEAR  \\\n",
       "0    Beach litter originating from national land-ba...      Albania  2017   \n",
       "1    Beach litter originating from national land-ba...      Albania  2018   \n",
       "2    Beach litter originating from national land-ba...      Albania  2019   \n",
       "3    Beach litter originating from national land-ba...      Albania  2020   \n",
       "4    Beach litter originating from national land-ba...      Albania  2021   \n",
       "..                                                 ...          ...   ...   \n",
       "695  Beach litter originating from national land-ba...        Yemen  2017   \n",
       "696  Beach litter originating from national land-ba...        Yemen  2018   \n",
       "697  Beach litter originating from national land-ba...        Yemen  2019   \n",
       "698  Beach litter originating from national land-ba...        Yemen  2020   \n",
       "699  Beach litter originating from national land-ba...        Yemen  2021   \n",
       "\n",
       "       VALUE  \n",
       "0    16481.0  \n",
       "1    18094.0  \n",
       "2    18500.0  \n",
       "3    20157.0  \n",
       "4    19828.0  \n",
       "..       ...  \n",
       "695  30194.0  \n",
       "696  34205.0  \n",
       "697  35625.0  \n",
       "698  36032.0  \n",
       "699  36954.0  \n",
       "\n",
       "[700 rows x 4 columns]"
      ]
     },
     "execution_count": 4,
     "metadata": {},
     "output_type": "execute_result"
    }
   ],
   "source": [
    "plastic_df = pd.read_csv(plastic_load, header=3)\n",
    "plastic_df"
   ]
  },
  {
   "cell_type": "code",
   "execution_count": 5,
   "id": "2ec70ec7",
   "metadata": {},
   "outputs": [
    {
     "data": {
      "text/html": [
       "<div>\n",
       "<style scoped>\n",
       "    .dataframe tbody tr th:only-of-type {\n",
       "        vertical-align: middle;\n",
       "    }\n",
       "\n",
       "    .dataframe tbody tr th {\n",
       "        vertical-align: top;\n",
       "    }\n",
       "\n",
       "    .dataframe thead th {\n",
       "        text-align: right;\n",
       "    }\n",
       "</style>\n",
       "<table border=\"1\" class=\"dataframe\">\n",
       "  <thead>\n",
       "    <tr style=\"text-align: right;\">\n",
       "      <th></th>\n",
       "      <th>COUNTRY NAME</th>\n",
       "      <th>YEAR</th>\n",
       "      <th>VALUE</th>\n",
       "    </tr>\n",
       "  </thead>\n",
       "  <tbody>\n",
       "    <tr>\n",
       "      <th>0</th>\n",
       "      <td>Albania</td>\n",
       "      <td>2017</td>\n",
       "      <td>16481.0</td>\n",
       "    </tr>\n",
       "    <tr>\n",
       "      <th>1</th>\n",
       "      <td>Albania</td>\n",
       "      <td>2018</td>\n",
       "      <td>18094.0</td>\n",
       "    </tr>\n",
       "    <tr>\n",
       "      <th>2</th>\n",
       "      <td>Albania</td>\n",
       "      <td>2019</td>\n",
       "      <td>18500.0</td>\n",
       "    </tr>\n",
       "    <tr>\n",
       "      <th>3</th>\n",
       "      <td>Albania</td>\n",
       "      <td>2020</td>\n",
       "      <td>20157.0</td>\n",
       "    </tr>\n",
       "    <tr>\n",
       "      <th>4</th>\n",
       "      <td>Albania</td>\n",
       "      <td>2021</td>\n",
       "      <td>19828.0</td>\n",
       "    </tr>\n",
       "    <tr>\n",
       "      <th>...</th>\n",
       "      <td>...</td>\n",
       "      <td>...</td>\n",
       "      <td>...</td>\n",
       "    </tr>\n",
       "    <tr>\n",
       "      <th>695</th>\n",
       "      <td>Yemen</td>\n",
       "      <td>2017</td>\n",
       "      <td>30194.0</td>\n",
       "    </tr>\n",
       "    <tr>\n",
       "      <th>696</th>\n",
       "      <td>Yemen</td>\n",
       "      <td>2018</td>\n",
       "      <td>34205.0</td>\n",
       "    </tr>\n",
       "    <tr>\n",
       "      <th>697</th>\n",
       "      <td>Yemen</td>\n",
       "      <td>2019</td>\n",
       "      <td>35625.0</td>\n",
       "    </tr>\n",
       "    <tr>\n",
       "      <th>698</th>\n",
       "      <td>Yemen</td>\n",
       "      <td>2020</td>\n",
       "      <td>36032.0</td>\n",
       "    </tr>\n",
       "    <tr>\n",
       "      <th>699</th>\n",
       "      <td>Yemen</td>\n",
       "      <td>2021</td>\n",
       "      <td>36954.0</td>\n",
       "    </tr>\n",
       "  </tbody>\n",
       "</table>\n",
       "<p>700 rows × 3 columns</p>\n",
       "</div>"
      ],
      "text/plain": [
       "    COUNTRY NAME  YEAR    VALUE\n",
       "0        Albania  2017  16481.0\n",
       "1        Albania  2018  18094.0\n",
       "2        Albania  2019  18500.0\n",
       "3        Albania  2020  20157.0\n",
       "4        Albania  2021  19828.0\n",
       "..           ...   ...      ...\n",
       "695        Yemen  2017  30194.0\n",
       "696        Yemen  2018  34205.0\n",
       "697        Yemen  2019  35625.0\n",
       "698        Yemen  2020  36032.0\n",
       "699        Yemen  2021  36954.0\n",
       "\n",
       "[700 rows x 3 columns]"
      ]
     },
     "execution_count": 5,
     "metadata": {},
     "output_type": "execute_result"
    }
   ],
   "source": [
    "pbt_df = plastic_df.drop(columns=['INDICATOR NAME (unit)'])\n",
    "pbt_df"
   ]
  },
  {
   "cell_type": "code",
   "execution_count": 6,
   "id": "5199f0ee",
   "metadata": {},
   "outputs": [
    {
     "data": {
      "text/plain": [
       "COUNTRY NAME    700\n",
       "YEAR            700\n",
       "VALUE           700\n",
       "dtype: int64"
      ]
     },
     "execution_count": 6,
     "metadata": {},
     "output_type": "execute_result"
    }
   ],
   "source": [
    "pbt_df.count()"
   ]
  },
  {
   "cell_type": "code",
   "execution_count": 7,
   "id": "9f4780f7",
   "metadata": {},
   "outputs": [
    {
     "data": {
      "text/plain": [
       "COUNTRY NAME     object\n",
       "YEAR              int64\n",
       "VALUE           float64\n",
       "dtype: object"
      ]
     },
     "execution_count": 7,
     "metadata": {},
     "output_type": "execute_result"
    }
   ],
   "source": [
    "pbt_df.dtypes"
   ]
  },
  {
   "cell_type": "code",
   "execution_count": 8,
   "id": "30e3e6f4",
   "metadata": {},
   "outputs": [
    {
     "data": {
      "text/plain": [
       "array(['Albania', 'Algeria', 'Angola', 'Antigua and Barbuda', 'Argentina',\n",
       "       'Australia', 'Bahamas', 'Bahrain', 'Bangladesh', 'Barbados',\n",
       "       'Belgium', 'Belize', 'Benin', 'Brazil', 'Brunei Darussalam',\n",
       "       'Bulgaria', 'Cabo Verde', 'Cambodia', 'Cameroon', 'Canada',\n",
       "       'Chile', 'China', 'Colombia', 'Comoros', 'Congo', 'Costa Rica',\n",
       "       \"Cote d'Ivoire\", 'Croatia', 'Cyprus',\n",
       "       \"Democratic People's Republic of Korea\",\n",
       "       'Democratic Republic of the Congo', 'Denmark', 'Djibouti',\n",
       "       'Dominica', 'Dominican Republic', 'Ecuador', 'Egypt',\n",
       "       'El Salvador', 'Equatorial Guinea', 'Eritrea', 'Estonia', 'Fiji',\n",
       "       'Finland', 'France', 'Gabon', 'Gambia', 'Georgia', 'Germany',\n",
       "       'Ghana', 'Greece', 'Grenada', 'Guatemala', 'Guinea',\n",
       "       'Guinea-Bissau', 'Guyana', 'Haiti', 'Honduras', 'Iceland', 'India',\n",
       "       'Indonesia', 'Iran (Islamic Republic of)', 'Ireland', 'Israel',\n",
       "       'Italy', 'Jamaica', 'Japan', 'Kenya', 'Kiribati', 'Kuwait',\n",
       "       'Latvia', 'Lebanon', 'Liberia', 'Libya', 'Lithuania', 'Madagascar',\n",
       "       'Malaysia', 'Maldives', 'Malta', 'Mauritania', 'Mauritius',\n",
       "       'Mexico', 'Micronesia (Federated States of)', 'Montenegro',\n",
       "       'Morocco', 'Mozambique', 'Myanmar', 'Namibia', 'Netherlands',\n",
       "       'New Zealand', 'Nicaragua', 'Nigeria', 'Norway', 'Oman',\n",
       "       'Pakistan', 'Palau', 'Panama', 'Papua New Guinea', 'Peru',\n",
       "       'Philippines', 'Poland', 'Portugal', 'Qatar', 'Republic of Korea',\n",
       "       'Romania', 'Russian Federation', 'Saint Kitts and Nevis',\n",
       "       'Saint Lucia', 'Saint Vincent and the Grenadines', 'Samoa',\n",
       "       'Sao Tome and Principe', 'Saudi Arabia', 'Senegal', 'Seychelles',\n",
       "       'Sierra Leone', 'Solomon Islands', 'Somalia', 'South Africa',\n",
       "       'Spain', 'Sri Lanka', 'Sudan', 'Suriname', 'Sweden',\n",
       "       'Syrian Arab Republic', 'Thailand', 'Timor-Leste', 'Togo', 'Tonga',\n",
       "       'Trinidad and Tobago', 'Tunisia', 'Turkey', 'Ukraine',\n",
       "       'United Arab Emirates',\n",
       "       'United Kingdom of Great Britain and Northern Ireland',\n",
       "       'United Republic of Tanzania', 'United States of America',\n",
       "       'Uruguay', 'Vanuatu', 'Venezuela (Bolivarian Republic of)',\n",
       "       'Viet Nam', 'Yemen'], dtype=object)"
      ]
     },
     "execution_count": 8,
     "metadata": {},
     "output_type": "execute_result"
    }
   ],
   "source": [
    "# What countries are in the data?\n",
    "countries_included = pbt_df[\"COUNTRY NAME\"].unique()\n",
    "countries_included"
   ]
  },
  {
   "cell_type": "code",
   "execution_count": 9,
   "id": "a9fd32f9",
   "metadata": {},
   "outputs": [
    {
     "name": "stdout",
     "output_type": "stream",
     "text": [
      "No.of.unique values : 140\n"
     ]
    }
   ],
   "source": [
    "# How many countries are in the data?\n",
    "n = len(pd.unique(pbt_df['COUNTRY NAME']))\n",
    "print(\"No.of.unique values :\", \n",
    "      n)"
   ]
  },
  {
   "cell_type": "code",
   "execution_count": 10,
   "id": "6a6b1c15",
   "metadata": {},
   "outputs": [
    {
     "data": {
      "text/plain": [
       "array([2017, 2018, 2019, 2020, 2021], dtype=int64)"
      ]
     },
     "execution_count": 10,
     "metadata": {},
     "output_type": "execute_result"
    }
   ],
   "source": [
    "# what is the span of years?\n",
    "years_included = pbt_df[\"YEAR\"].unique()\n",
    "years_included"
   ]
  },
  {
   "cell_type": "code",
   "execution_count": null,
   "id": "ecd2d87d",
   "metadata": {},
   "outputs": [],
   "source": [
    "\n"
   ]
  },
  {
   "cell_type": "code",
   "execution_count": 11,
   "id": "bb942eaa",
   "metadata": {},
   "outputs": [
    {
     "data": {
      "text/html": [
       "<div>\n",
       "<style scoped>\n",
       "    .dataframe tbody tr th:only-of-type {\n",
       "        vertical-align: middle;\n",
       "    }\n",
       "\n",
       "    .dataframe tbody tr th {\n",
       "        vertical-align: top;\n",
       "    }\n",
       "\n",
       "    .dataframe thead th {\n",
       "        text-align: right;\n",
       "    }\n",
       "</style>\n",
       "<table border=\"1\" class=\"dataframe\">\n",
       "  <thead>\n",
       "    <tr style=\"text-align: right;\">\n",
       "      <th>YEAR</th>\n",
       "      <th>2017</th>\n",
       "      <th>2018</th>\n",
       "      <th>2019</th>\n",
       "      <th>2020</th>\n",
       "      <th>2021</th>\n",
       "    </tr>\n",
       "    <tr>\n",
       "      <th>COUNTRY NAME</th>\n",
       "      <th></th>\n",
       "      <th></th>\n",
       "      <th></th>\n",
       "      <th></th>\n",
       "      <th></th>\n",
       "    </tr>\n",
       "  </thead>\n",
       "  <tbody>\n",
       "    <tr>\n",
       "      <th>Albania</th>\n",
       "      <td>16481.0</td>\n",
       "      <td>18094.0</td>\n",
       "      <td>18500.0</td>\n",
       "      <td>20157.0</td>\n",
       "      <td>19828.0</td>\n",
       "    </tr>\n",
       "    <tr>\n",
       "      <th>Algeria</th>\n",
       "      <td>153459.0</td>\n",
       "      <td>144421.0</td>\n",
       "      <td>157950.0</td>\n",
       "      <td>175154.0</td>\n",
       "      <td>180214.0</td>\n",
       "    </tr>\n",
       "    <tr>\n",
       "      <th>Angola</th>\n",
       "      <td>48632.0</td>\n",
       "      <td>50225.0</td>\n",
       "      <td>52877.0</td>\n",
       "      <td>54660.0</td>\n",
       "      <td>55728.0</td>\n",
       "    </tr>\n",
       "    <tr>\n",
       "      <th>Antigua and Barbuda</th>\n",
       "      <td>175.0</td>\n",
       "      <td>185.0</td>\n",
       "      <td>172.0</td>\n",
       "      <td>144.0</td>\n",
       "      <td>151.0</td>\n",
       "    </tr>\n",
       "    <tr>\n",
       "      <th>Argentina</th>\n",
       "      <td>4135.0</td>\n",
       "      <td>4473.0</td>\n",
       "      <td>4847.0</td>\n",
       "      <td>5804.0</td>\n",
       "      <td>6262.0</td>\n",
       "    </tr>\n",
       "    <tr>\n",
       "      <th>...</th>\n",
       "      <td>...</td>\n",
       "      <td>...</td>\n",
       "      <td>...</td>\n",
       "      <td>...</td>\n",
       "      <td>...</td>\n",
       "    </tr>\n",
       "    <tr>\n",
       "      <th>Uruguay</th>\n",
       "      <td>77417.0</td>\n",
       "      <td>86096.0</td>\n",
       "      <td>94544.0</td>\n",
       "      <td>110834.0</td>\n",
       "      <td>120598.0</td>\n",
       "    </tr>\n",
       "    <tr>\n",
       "      <th>Vanuatu</th>\n",
       "      <td>868.0</td>\n",
       "      <td>841.0</td>\n",
       "      <td>997.0</td>\n",
       "      <td>975.0</td>\n",
       "      <td>931.0</td>\n",
       "    </tr>\n",
       "    <tr>\n",
       "      <th>Venezuela (Bolivarian Republic of)</th>\n",
       "      <td>209928.0</td>\n",
       "      <td>224320.0</td>\n",
       "      <td>231129.0</td>\n",
       "      <td>227809.0</td>\n",
       "      <td>240071.0</td>\n",
       "    </tr>\n",
       "    <tr>\n",
       "      <th>Viet Nam</th>\n",
       "      <td>421669.0</td>\n",
       "      <td>449326.0</td>\n",
       "      <td>484452.0</td>\n",
       "      <td>493432.0</td>\n",
       "      <td>499309.0</td>\n",
       "    </tr>\n",
       "    <tr>\n",
       "      <th>Yemen</th>\n",
       "      <td>30194.0</td>\n",
       "      <td>34205.0</td>\n",
       "      <td>35625.0</td>\n",
       "      <td>36032.0</td>\n",
       "      <td>36954.0</td>\n",
       "    </tr>\n",
       "  </tbody>\n",
       "</table>\n",
       "<p>140 rows × 5 columns</p>\n",
       "</div>"
      ],
      "text/plain": [
       "YEAR                                    2017      2018      2019      2020  \\\n",
       "COUNTRY NAME                                                                 \n",
       "Albania                              16481.0   18094.0   18500.0   20157.0   \n",
       "Algeria                             153459.0  144421.0  157950.0  175154.0   \n",
       "Angola                               48632.0   50225.0   52877.0   54660.0   \n",
       "Antigua and Barbuda                    175.0     185.0     172.0     144.0   \n",
       "Argentina                             4135.0    4473.0    4847.0    5804.0   \n",
       "...                                      ...       ...       ...       ...   \n",
       "Uruguay                              77417.0   86096.0   94544.0  110834.0   \n",
       "Vanuatu                                868.0     841.0     997.0     975.0   \n",
       "Venezuela (Bolivarian Republic of)  209928.0  224320.0  231129.0  227809.0   \n",
       "Viet Nam                            421669.0  449326.0  484452.0  493432.0   \n",
       "Yemen                                30194.0   34205.0   35625.0   36032.0   \n",
       "\n",
       "YEAR                                    2021  \n",
       "COUNTRY NAME                                  \n",
       "Albania                              19828.0  \n",
       "Algeria                             180214.0  \n",
       "Angola                               55728.0  \n",
       "Antigua and Barbuda                    151.0  \n",
       "Argentina                             6262.0  \n",
       "...                                      ...  \n",
       "Uruguay                             120598.0  \n",
       "Vanuatu                                931.0  \n",
       "Venezuela (Bolivarian Republic of)  240071.0  \n",
       "Viet Nam                            499309.0  \n",
       "Yemen                                36954.0  \n",
       "\n",
       "[140 rows x 5 columns]"
      ]
     },
     "execution_count": 11,
     "metadata": {},
     "output_type": "execute_result"
    }
   ],
   "source": [
    "pbt_pivoted_df = pbt_df.pivot(index=\"COUNTRY NAME\", columns=\"YEAR\", values=\"VALUE\")\n",
    "pbt_pivoted_df"
   ]
  },
  {
   "cell_type": "code",
   "execution_count": 12,
   "id": "90c1b3c2",
   "metadata": {},
   "outputs": [
    {
     "data": {
      "text/plain": [
       "COUNTRY NAME\n",
       "Albania                                 93060.0\n",
       "Algeria                                811198.0\n",
       "Angola                                 262122.0\n",
       "Antigua and Barbuda                       827.0\n",
       "Argentina                               25521.0\n",
       "                                        ...    \n",
       "Uruguay                                489489.0\n",
       "Vanuatu                                  4612.0\n",
       "Venezuela (Bolivarian Republic of)    1133257.0\n",
       "Viet Nam                              2348188.0\n",
       "Yemen                                  173010.0\n",
       "Length: 140, dtype: float64"
      ]
     },
     "execution_count": 12,
     "metadata": {},
     "output_type": "execute_result"
    }
   ],
   "source": [
    "# total per year\n",
    "total_per_country = pbt_pivoted_df.sum(axis=1)\n",
    "total_per_country"
   ]
  },
  {
   "cell_type": "code",
   "execution_count": 13,
   "id": "2037d620",
   "metadata": {},
   "outputs": [
    {
     "data": {
      "text/plain": [
       "YEAR\n",
       "2017    10357446.0\n",
       "2018    11097226.0\n",
       "2019    11707852.0\n",
       "2020    11937102.0\n",
       "2021    11933238.0\n",
       "dtype: float64"
      ]
     },
     "execution_count": 13,
     "metadata": {},
     "output_type": "execute_result"
    }
   ],
   "source": [
    "# total per year\n",
    "total_per_year = pbt_pivoted_df.sum(axis=0)\n",
    "total_per_year"
   ]
  },
  {
   "cell_type": "code",
   "execution_count": 14,
   "id": "23d4e638",
   "metadata": {},
   "outputs": [
    {
     "data": {
      "image/png": "[encoded data removed]",
      "text/plain": [
       "<Figure size 432x288 with 1 Axes>"
      ]
     },
     "metadata": {
      "needs_background": "light"
     },
     "output_type": "display_data"
    }
   ],
   "source": [
    "plt.bar(years_included,total_per_year)\n",
    "plt.ylim(10000000,12000000)\n",
    "plt.xlabel('Years')\n",
    "plt.ylabel('Tonnes')\n",
    "plt.title('How many Tonnes of plastic on beaches per Year')\n",
    "plt.show()"
   ]
  },
  {
   "cell_type": "code",
   "execution_count": 15,
   "id": "e9ef9a62",
   "metadata": {},
   "outputs": [
    {
     "data": {
      "image/png": "[encoded data removed]",
      "text/plain": [
       "<Figure size 432x288 with 1 Axes>"
      ]
     },
     "metadata": {
      "needs_background": "light"
     },
     "output_type": "display_data"
    }
   ],
   "source": [
    "# total per country: to many countries to make this graph any good but there are some clear spikes\n",
    "plt.plot(countries_included,total_per_country)\n",
    "plt.xlabel('Countries')\n",
    "plt.ylabel('Tonnes')\n",
    "plt.title('How many Tonnes of plastic on beaches per country')\n",
    "plt.show()"
   ]
  },
  {
   "cell_type": "code",
   "execution_count": 16,
   "id": "bf31df20",
   "metadata": {},
   "outputs": [
    {
     "ename": "SyntaxError",
     "evalue": "EOL while scanning string literal (1670325571.py, line 1)",
     "output_type": "error",
     "traceback": [
      "\u001b[1;36m  File \u001b[1;32m\"C:\\Users\\tisla\\AppData\\Local\\Temp\\ipykernel_1160\\1670325571.py\"\u001b[1;36m, line \u001b[1;32m1\u001b[0m\n\u001b[1;33m    pbt_pivoted_df.to_csv(\"Resources/pbt_pivoted_clean.csv\",index =False\"\u001b[0m\n\u001b[1;37m                                                                         ^\u001b[0m\n\u001b[1;31mSyntaxError\u001b[0m\u001b[1;31m:\u001b[0m EOL while scanning string literal\n"
     ]
    }
   ],
   "source": [
    "pbt_pivoted_df.to_csv(\"Resources/pbt_pivoted_clean.csv\",index =False\""
   ]
  }
 ],
 "metadata": {
  "kernelspec": {
   "display_name": "Python 3 (ipykernel)",
   "language": "python",
   "name": "python3"
  },
  "language_info": {
   "codemirror_mode": {
    "name": "ipython",
    "version": 3
   },
   "file_extension": ".py",
   "mimetype": "text/x-python",
   "name": "python",
   "nbconvert_exporter": "python",
   "pygments_lexer": "ipython3",
   "version": "3.7.11"
  }
 },
 "nbformat": 4,
 "nbformat_minor": 5
}
