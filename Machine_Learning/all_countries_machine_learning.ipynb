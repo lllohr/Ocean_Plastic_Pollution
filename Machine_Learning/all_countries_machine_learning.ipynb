{
 "cells": [
  {
   "cell_type": "code",
   "execution_count": 1,
   "id": "3217382e",
   "metadata": {},
   "outputs": [],
   "source": [
    "import numpy as np\n",
    "import pandas as pd\n",
    "from pathlib import Path\n",
    "from collections import Counter\n",
    "import matplotlib.pyplot as plt\n",
    "import os  "
   ]
  },
  {
   "cell_type": "code",
   "execution_count": 2,
   "id": "6e83e8b3",
   "metadata": {},
   "outputs": [],
   "source": [
    "from sklearn.metrics import balanced_accuracy_score\n",
    "from sklearn.metrics import confusion_matrix\n",
    "from imblearn.metrics import classification_report_imbalanced\n",
    "from sklearn.linear_model import LinearRegression\n",
    "from sklearn.ensemble import RandomForestClassifier\n",
    "from sklearn.preprocessing import StandardScaler\n",
    "from sklearn.model_selection import train_test_split\n",
    "from sklearn.metrics import confusion_matrix, accuracy_score, classification_report"
   ]
  },
  {
   "cell_type": "code",
   "execution_count": 3,
   "id": "e6a94da2",
   "metadata": {},
   "outputs": [
    {
     "data": {
      "text/html": [
       "<div>\n",
       "<style scoped>\n",
       "    .dataframe tbody tr th:only-of-type {\n",
       "        vertical-align: middle;\n",
       "    }\n",
       "\n",
       "    .dataframe tbody tr th {\n",
       "        vertical-align: top;\n",
       "    }\n",
       "\n",
       "    .dataframe thead th {\n",
       "        text-align: right;\n",
       "    }\n",
       "</style>\n",
       "<table border=\"1\" class=\"dataframe\">\n",
       "  <thead>\n",
       "    <tr style=\"text-align: right;\">\n",
       "      <th></th>\n",
       "      <th>Country</th>\n",
       "      <th>Year</th>\n",
       "      <th>GDP_per_capita</th>\n",
       "      <th>Population</th>\n",
       "      <th>Metric_Tons</th>\n",
       "    </tr>\n",
       "  </thead>\n",
       "  <tbody>\n",
       "    <tr>\n",
       "      <th>0</th>\n",
       "      <td>Albania</td>\n",
       "      <td>2017</td>\n",
       "      <td>12770.963867</td>\n",
       "      <td>2884169.0</td>\n",
       "      <td>16481.0</td>\n",
       "    </tr>\n",
       "    <tr>\n",
       "      <th>1</th>\n",
       "      <td>Albania</td>\n",
       "      <td>2018</td>\n",
       "      <td>13317.092773</td>\n",
       "      <td>2882735.0</td>\n",
       "      <td>18094.0</td>\n",
       "    </tr>\n",
       "    <tr>\n",
       "      <th>2</th>\n",
       "      <td>Albania</td>\n",
       "      <td>2019</td>\n",
       "      <td>13656.592773</td>\n",
       "      <td>2880913.0</td>\n",
       "      <td>18500.0</td>\n",
       "    </tr>\n",
       "    <tr>\n",
       "      <th>3</th>\n",
       "      <td>Albania</td>\n",
       "      <td>2020</td>\n",
       "      <td>13191.952148</td>\n",
       "      <td>2877800.0</td>\n",
       "      <td>20157.0</td>\n",
       "    </tr>\n",
       "    <tr>\n",
       "      <th>4</th>\n",
       "      <td>Algeria</td>\n",
       "      <td>2017</td>\n",
       "      <td>11737.401367</td>\n",
       "      <td>41389174.0</td>\n",
       "      <td>153459.0</td>\n",
       "    </tr>\n",
       "    <tr>\n",
       "      <th>...</th>\n",
       "      <td>...</td>\n",
       "      <td>...</td>\n",
       "      <td>...</td>\n",
       "      <td>...</td>\n",
       "      <td>...</td>\n",
       "    </tr>\n",
       "    <tr>\n",
       "      <th>495</th>\n",
       "      <td>Vanuatu</td>\n",
       "      <td>2020</td>\n",
       "      <td>2854.292480</td>\n",
       "      <td>307150.0</td>\n",
       "      <td>975.0</td>\n",
       "    </tr>\n",
       "    <tr>\n",
       "      <th>496</th>\n",
       "      <td>Yemen</td>\n",
       "      <td>2017</td>\n",
       "      <td>NaN</td>\n",
       "      <td>27834811.0</td>\n",
       "      <td>30194.0</td>\n",
       "    </tr>\n",
       "    <tr>\n",
       "      <th>497</th>\n",
       "      <td>Yemen</td>\n",
       "      <td>2018</td>\n",
       "      <td>NaN</td>\n",
       "      <td>28498683.0</td>\n",
       "      <td>34205.0</td>\n",
       "    </tr>\n",
       "    <tr>\n",
       "      <th>498</th>\n",
       "      <td>Yemen</td>\n",
       "      <td>2019</td>\n",
       "      <td>NaN</td>\n",
       "      <td>29161922.0</td>\n",
       "      <td>35625.0</td>\n",
       "    </tr>\n",
       "    <tr>\n",
       "      <th>499</th>\n",
       "      <td>Yemen</td>\n",
       "      <td>2020</td>\n",
       "      <td>NaN</td>\n",
       "      <td>29825968.0</td>\n",
       "      <td>36032.0</td>\n",
       "    </tr>\n",
       "  </tbody>\n",
       "</table>\n",
       "<p>500 rows × 5 columns</p>\n",
       "</div>"
      ],
      "text/plain": [
       "     Country  Year  GDP_per_capita  Population  Metric_Tons\n",
       "0    Albania  2017    12770.963867   2884169.0      16481.0\n",
       "1    Albania  2018    13317.092773   2882735.0      18094.0\n",
       "2    Albania  2019    13656.592773   2880913.0      18500.0\n",
       "3    Albania  2020    13191.952148   2877800.0      20157.0\n",
       "4    Algeria  2017    11737.401367  41389174.0     153459.0\n",
       "..       ...   ...             ...         ...          ...\n",
       "495  Vanuatu  2020     2854.292480    307150.0        975.0\n",
       "496    Yemen  2017             NaN  27834811.0      30194.0\n",
       "497    Yemen  2018             NaN  28498683.0      34205.0\n",
       "498    Yemen  2019             NaN  29161922.0      35625.0\n",
       "499    Yemen  2020             NaN  29825968.0      36032.0\n",
       "\n",
       "[500 rows x 5 columns]"
      ]
     },
     "execution_count": 3,
     "metadata": {},
     "output_type": "execute_result"
    }
   ],
   "source": [
    "# Load the data\n",
    "all_countries_df = pd.read_csv(Path(\"Resources/all_countries_df.csv\"), index_col=0)\n",
    "\n",
    "all_countries_df"
   ]
  },
  {
   "cell_type": "code",
   "execution_count": 15,
   "id": "6bcfea9a",
   "metadata": {},
   "outputs": [],
   "source": [
    "# Drop all Nan\n",
    "all_countries_df = all_countries_df.dropna()"
   ]
  },
  {
   "cell_type": "code",
   "execution_count": 5,
   "id": "43f7e0ce",
   "metadata": {},
   "outputs": [],
   "source": [
    "# Save clean file with Nans dropped\n",
    "os.makedirs('Resources', exist_ok=True)  \n",
    "all_countries_df.to_csv('Resources/all_countries.csv')  "
   ]
  },
  {
   "cell_type": "code",
   "execution_count": 14,
   "id": "39e67dc2",
   "metadata": {},
   "outputs": [
    {
     "data": {
      "image/png": "[encoded data removed]",
      "text/plain": [
       "<Figure size 432x288 with 1 Axes>"
      ]
     },
     "metadata": {
      "needs_background": "light"
     },
     "output_type": "display_data"
    }
   ],
   "source": [
    "# inspect the relationship between Metric Tons and GDP\n",
    "plt.scatter(all_countries_df.GDP_per_capita, all_countries_df.Metric_Tons)\n",
    "plt.xlabel('GDP_per_capita')\n",
    "plt.ylabel('Metric_Tons')\n",
    "plt.show()"
   ]
  },
  {
   "cell_type": "code",
   "execution_count": 13,
   "id": "c0ae6483",
   "metadata": {},
   "outputs": [
    {
     "data": {
      "image/png": "[encoded data removed]",
      "text/plain": [
       "<Figure size 432x288 with 1 Axes>"
      ]
     },
     "metadata": {
      "needs_background": "light"
     },
     "output_type": "display_data"
    }
   ],
   "source": [
    "# inspect the relationship between Metric Tons and GDP\n",
    "plt.scatter(all_countries_df.Metric_Tons, all_countries_df.GDP_per_capita)\n",
    "plt.xlabel('Metric_Tons')\n",
    "plt.ylabel('GDP_per_capita')\n",
    "plt.show()"
   ]
  },
  {
   "cell_type": "code",
   "execution_count": 8,
   "id": "ca0e0dbe",
   "metadata": {},
   "outputs": [],
   "source": [
    "# format the data to meet the requirements of the Scikit-learn library\n",
    "X = all_countries_df.Metric_Tons.values.reshape(-1, 1)"
   ]
  },
  {
   "cell_type": "code",
   "execution_count": 9,
   "id": "be5b0e65",
   "metadata": {},
   "outputs": [
    {
     "data": {
      "text/plain": [
       "array([[ 16481.],\n",
       "       [ 18094.],\n",
       "       [ 18500.],\n",
       "       [ 20157.],\n",
       "       [153459.]])"
      ]
     },
     "execution_count": 9,
     "metadata": {},
     "output_type": "execute_result"
    }
   ],
   "source": [
    "# examine the first five entries in X,\n",
    "X[:5]"
   ]
  },
  {
   "cell_type": "code",
   "execution_count": 10,
   "id": "35ecfd1d",
   "metadata": {},
   "outputs": [
    {
     "data": {
      "text/plain": [
       "(492, 1)"
      ]
     },
     "execution_count": 10,
     "metadata": {},
     "output_type": "execute_result"
    }
   ],
   "source": [
    "# examine the shape of X\n",
    "X.shape"
   ]
  },
  {
   "cell_type": "code",
   "execution_count": 11,
   "id": "0c9d6b84",
   "metadata": {},
   "outputs": [],
   "source": [
    "#  assign the target variable\n",
    "y = all_countries_df.GDP_per_capita"
   ]
  },
  {
   "cell_type": "code",
   "execution_count": 16,
   "id": "ca4cb6c2",
   "metadata": {},
   "outputs": [],
   "source": [
    "#create an instance of the linear regression model\n",
    "model = LinearRegression()"
   ]
  },
  {
   "cell_type": "code",
   "execution_count": 17,
   "id": "f831f87e",
   "metadata": {},
   "outputs": [
    {
     "data": {
      "text/plain": [
       "LinearRegression()"
      ]
     },
     "execution_count": 17,
     "metadata": {},
     "output_type": "execute_result"
    }
   ],
   "source": [
    "# fit the model\n",
    "model.fit(X, y)"
   ]
  },
  {
   "cell_type": "code",
   "execution_count": 18,
   "id": "7f63530c",
   "metadata": {},
   "outputs": [
    {
     "name": "stdout",
     "output_type": "stream",
     "text": [
      "(492,)\n"
     ]
    }
   ],
   "source": [
    "# predict method to generate predictions\n",
    "y_pred = model.predict(X)\n",
    "print(y_pred.shape)"
   ]
  },
  {
   "cell_type": "code",
   "execution_count": 19,
   "id": "4003d582",
   "metadata": {},
   "outputs": [
    {
     "data": {
      "image/png": "[encoded data removed]",
      "text/plain": [
       "<Figure size 432x288 with 1 Axes>"
      ]
     },
     "metadata": {
      "needs_background": "light"
     },
     "output_type": "display_data"
    }
   ],
   "source": [
    "# plot the predictions\n",
    "plt.scatter(X, y)\n",
    "plt.plot(X, y_pred, color='red')\n",
    "plt.show()"
   ]
  },
  {
   "cell_type": "code",
   "execution_count": 20,
   "id": "af936f51",
   "metadata": {},
   "outputs": [
    {
     "name": "stdout",
     "output_type": "stream",
     "text": [
      "[-0.00813403]\n",
      "21375.02929870379\n"
     ]
    }
   ],
   "source": [
    "print(model.coef_)\n",
    "print(model.intercept_)"
   ]
  },
  {
   "cell_type": "code",
   "execution_count": 25,
   "id": "4d077045",
   "metadata": {},
   "outputs": [
    {
     "data": {
      "image/png": "[encoded data removed]",
      "text/plain": [
       "<Figure size 432x288 with 1 Axes>"
      ]
     },
     "metadata": {
      "needs_background": "light"
     },
     "output_type": "display_data"
    }
   ],
   "source": [
    "# inspect the relationship between Metric Tons and Population\n",
    "plt.scatter(all_countries_df.Metric_Tons, all_countries_df.Population)\n",
    "plt.xlabel('Metric_Tons')\n",
    "plt.ylabel('Population')\n",
    "plt.show()"
   ]
  },
  {
   "cell_type": "code",
   "execution_count": null,
   "id": "b57a6aef",
   "metadata": {},
   "outputs": [],
   "source": [
    "# format the data to meet the requirements of the Scikit-learn library\n",
    "X = all_countries_df.Metric_Tons.values.reshape(-1, 1)"
   ]
  },
  {
   "cell_type": "code",
   "execution_count": null,
   "id": "4b958df5",
   "metadata": {},
   "outputs": [],
   "source": [
    "# examine the first five entries in X,\n",
    "X[:5]"
   ]
  },
  {
   "cell_type": "code",
   "execution_count": null,
   "id": "c0a44ad7",
   "metadata": {},
   "outputs": [],
   "source": [
    "# examine the shape of X\n",
    "X.shape"
   ]
  },
  {
   "cell_type": "code",
   "execution_count": 26,
   "id": "e7a08e8b",
   "metadata": {},
   "outputs": [],
   "source": [
    "#  assign the target variable\n",
    "y = all_countries_df.Population"
   ]
  },
  {
   "cell_type": "code",
   "execution_count": null,
   "id": "11eea5e8",
   "metadata": {},
   "outputs": [],
   "source": [
    "#create an instance of the linear regression model\n",
    "model = LinearRegression()"
   ]
  },
  {
   "cell_type": "code",
   "execution_count": null,
   "id": "9f5be28a",
   "metadata": {},
   "outputs": [],
   "source": [
    "# fit the model\n",
    "model.fit(X, y)"
   ]
  },
  {
   "cell_type": "code",
   "execution_count": null,
   "id": "90474999",
   "metadata": {},
   "outputs": [],
   "source": [
    "# predict method to generate predictions\n",
    "y_pred = model.predict(X)\n",
    "print(y_pred.shape)"
   ]
  }
 ],
 "metadata": {
  "kernelspec": {
   "display_name": "mlenv",
   "language": "python",
   "name": "mlenv"
  },
  "language_info": {
   "codemirror_mode": {
    "name": "ipython",
    "version": 3
   },
   "file_extension": ".py",
   "mimetype": "text/x-python",
   "name": "python",
   "nbconvert_exporter": "python",
   "pygments_lexer": "ipython3",
   "version": "3.7.13"
  }
 },
 "nbformat": 4,
 "nbformat_minor": 5
}
