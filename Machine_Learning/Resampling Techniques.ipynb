{
 "cells": [
  {
   "cell_type": "code",
   "execution_count": 1,
   "id": "7dd3ec0c",
   "metadata": {},
   "outputs": [],
   "source": [
    "import numpy as np\n",
    "import pandas as pd\n",
    "from pathlib import Path\n",
    "from path import Path\n",
    "from collections import Counter\n",
    "# import s3fs\n",
    "import matplotlib.pyplot as plt\n",
    "from sklearn.linear_model import LinearRegression\n",
    "import pycountry\n",
    "import seaborn as sns\n",
    "import matplotlib.pyplot as plt\n",
    "import seaborn as sns\n",
    "import plotly_express as px\n",
    "%matplotlib inline"
   ]
  },
  {
   "cell_type": "code",
   "execution_count": 2,
   "id": "1b892f01",
   "metadata": {},
   "outputs": [],
   "source": [
    "import warnings\n",
    "warnings.filterwarnings('ignore')"
   ]
  },
  {
   "cell_type": "code",
   "execution_count": 3,
   "id": "15d31a1d",
   "metadata": {},
   "outputs": [],
   "source": [
    "from sklearn.metrics import balanced_accuracy_score\n",
    "from sklearn.metrics import confusion_matrix\n",
    "from imblearn.metrics import classification_report_imbalanced\n",
    "from sklearn.preprocessing import StandardScaler\n",
    "from sklearn import tree\n",
    "from sklearn.preprocessing import StandardScaler\n",
    "from sklearn.model_selection import train_test_split\n",
    "from sklearn.metrics import confusion_matrix, accuracy_score, classification_report\n",
    "from imblearn.ensemble import BalancedRandomForestClassifier"
   ]
  },
  {
   "cell_type": "markdown",
   "id": "689bbbc6",
   "metadata": {},
   "source": [
    "## Read the CSV and Perform Basic Data Cleaning"
   ]
  },
  {
   "cell_type": "code",
   "execution_count": 4,
   "id": "b4f48cbd",
   "metadata": {},
   "outputs": [
    {
     "data": {
      "text/html": [
       "<div>\n",
       "<style scoped>\n",
       "    .dataframe tbody tr th:only-of-type {\n",
       "        vertical-align: middle;\n",
       "    }\n",
       "\n",
       "    .dataframe tbody tr th {\n",
       "        vertical-align: top;\n",
       "    }\n",
       "\n",
       "    .dataframe thead th {\n",
       "        text-align: right;\n",
       "    }\n",
       "</style>\n",
       "<table border=\"1\" class=\"dataframe\">\n",
       "  <thead>\n",
       "    <tr style=\"text-align: right;\">\n",
       "      <th></th>\n",
       "      <th>Country</th>\n",
       "      <th>Year</th>\n",
       "      <th>GDP_per_capita</th>\n",
       "      <th>Population</th>\n",
       "      <th>Metric_Tons</th>\n",
       "    </tr>\n",
       "  </thead>\n",
       "  <tbody>\n",
       "    <tr>\n",
       "      <th>0</th>\n",
       "      <td>Albania</td>\n",
       "      <td>2017</td>\n",
       "      <td>12770.963867</td>\n",
       "      <td>2884169.0</td>\n",
       "      <td>16481.0</td>\n",
       "    </tr>\n",
       "    <tr>\n",
       "      <th>1</th>\n",
       "      <td>Albania</td>\n",
       "      <td>2018</td>\n",
       "      <td>13317.092773</td>\n",
       "      <td>2882735.0</td>\n",
       "      <td>18094.0</td>\n",
       "    </tr>\n",
       "    <tr>\n",
       "      <th>2</th>\n",
       "      <td>Albania</td>\n",
       "      <td>2019</td>\n",
       "      <td>13656.592773</td>\n",
       "      <td>2880913.0</td>\n",
       "      <td>18500.0</td>\n",
       "    </tr>\n",
       "    <tr>\n",
       "      <th>3</th>\n",
       "      <td>Albania</td>\n",
       "      <td>2020</td>\n",
       "      <td>13191.952148</td>\n",
       "      <td>2877800.0</td>\n",
       "      <td>20157.0</td>\n",
       "    </tr>\n",
       "    <tr>\n",
       "      <th>4</th>\n",
       "      <td>Algeria</td>\n",
       "      <td>2017</td>\n",
       "      <td>11737.401367</td>\n",
       "      <td>41389174.0</td>\n",
       "      <td>153459.0</td>\n",
       "    </tr>\n",
       "    <tr>\n",
       "      <th>...</th>\n",
       "      <td>...</td>\n",
       "      <td>...</td>\n",
       "      <td>...</td>\n",
       "      <td>...</td>\n",
       "      <td>...</td>\n",
       "    </tr>\n",
       "    <tr>\n",
       "      <th>491</th>\n",
       "      <td>Uruguay</td>\n",
       "      <td>2020</td>\n",
       "      <td>21608.429688</td>\n",
       "      <td>3473727.0</td>\n",
       "      <td>110834.0</td>\n",
       "    </tr>\n",
       "    <tr>\n",
       "      <th>492</th>\n",
       "      <td>Vanuatu</td>\n",
       "      <td>2017</td>\n",
       "      <td>3081.835205</td>\n",
       "      <td>285499.0</td>\n",
       "      <td>868.0</td>\n",
       "    </tr>\n",
       "    <tr>\n",
       "      <th>493</th>\n",
       "      <td>Vanuatu</td>\n",
       "      <td>2018</td>\n",
       "      <td>3093.461426</td>\n",
       "      <td>292675.0</td>\n",
       "      <td>841.0</td>\n",
       "    </tr>\n",
       "    <tr>\n",
       "      <th>494</th>\n",
       "      <td>Vanuatu</td>\n",
       "      <td>2019</td>\n",
       "      <td>3137.240967</td>\n",
       "      <td>299882.0</td>\n",
       "      <td>997.0</td>\n",
       "    </tr>\n",
       "    <tr>\n",
       "      <th>495</th>\n",
       "      <td>Vanuatu</td>\n",
       "      <td>2020</td>\n",
       "      <td>2854.292480</td>\n",
       "      <td>307150.0</td>\n",
       "      <td>975.0</td>\n",
       "    </tr>\n",
       "  </tbody>\n",
       "</table>\n",
       "<p>492 rows × 5 columns</p>\n",
       "</div>"
      ],
      "text/plain": [
       "     Country  Year  GDP_per_capita  Population  Metric_Tons\n",
       "0    Albania  2017    12770.963867   2884169.0      16481.0\n",
       "1    Albania  2018    13317.092773   2882735.0      18094.0\n",
       "2    Albania  2019    13656.592773   2880913.0      18500.0\n",
       "3    Albania  2020    13191.952148   2877800.0      20157.0\n",
       "4    Algeria  2017    11737.401367  41389174.0     153459.0\n",
       "..       ...   ...             ...         ...          ...\n",
       "491  Uruguay  2020    21608.429688   3473727.0     110834.0\n",
       "492  Vanuatu  2017     3081.835205    285499.0        868.0\n",
       "493  Vanuatu  2018     3093.461426    292675.0        841.0\n",
       "494  Vanuatu  2019     3137.240967    299882.0        997.0\n",
       "495  Vanuatu  2020     2854.292480    307150.0        975.0\n",
       "\n",
       "[492 rows x 5 columns]"
      ]
     },
     "execution_count": 4,
     "metadata": {},
     "output_type": "execute_result"
    }
   ],
   "source": [
    "# Load the data\n",
    "all_countries_df = pd.read_csv(Path(\"../Resources/all_countries.csv\"), index_col=0)\n",
    "\n",
    "all_countries_df"
   ]
  },
  {
   "cell_type": "code",
   "execution_count": 5,
   "id": "16c6986a",
   "metadata": {},
   "outputs": [
    {
     "data": {
      "text/html": [
       "<div>\n",
       "<style scoped>\n",
       "    .dataframe tbody tr th:only-of-type {\n",
       "        vertical-align: middle;\n",
       "    }\n",
       "\n",
       "    .dataframe tbody tr th {\n",
       "        vertical-align: top;\n",
       "    }\n",
       "\n",
       "    .dataframe thead th {\n",
       "        text-align: right;\n",
       "    }\n",
       "</style>\n",
       "<table border=\"1\" class=\"dataframe\">\n",
       "  <thead>\n",
       "    <tr style=\"text-align: right;\">\n",
       "      <th></th>\n",
       "      <th>Country</th>\n",
       "      <th>Year</th>\n",
       "      <th>GDP_per_capita</th>\n",
       "      <th>Population</th>\n",
       "      <th>Metric_Tons</th>\n",
       "    </tr>\n",
       "  </thead>\n",
       "  <tbody>\n",
       "    <tr>\n",
       "      <th>79</th>\n",
       "      <td>China</td>\n",
       "      <td>2020</td>\n",
       "      <td>16315.815430</td>\n",
       "      <td>1.439324e+09</td>\n",
       "      <td>2777198.0</td>\n",
       "    </tr>\n",
       "    <tr>\n",
       "      <th>78</th>\n",
       "      <td>China</td>\n",
       "      <td>2019</td>\n",
       "      <td>15977.645508</td>\n",
       "      <td>1.433784e+09</td>\n",
       "      <td>2683611.0</td>\n",
       "    </tr>\n",
       "    <tr>\n",
       "      <th>77</th>\n",
       "      <td>China</td>\n",
       "      <td>2018</td>\n",
       "      <td>15133.996094</td>\n",
       "      <td>1.427648e+09</td>\n",
       "      <td>2498228.0</td>\n",
       "    </tr>\n",
       "    <tr>\n",
       "      <th>76</th>\n",
       "      <td>China</td>\n",
       "      <td>2017</td>\n",
       "      <td>14243.532227</td>\n",
       "      <td>1.421022e+09</td>\n",
       "      <td>2290405.0</td>\n",
       "    </tr>\n",
       "    <tr>\n",
       "      <th>371</th>\n",
       "      <td>Philippines</td>\n",
       "      <td>2020</td>\n",
       "      <td>7953.581543</td>\n",
       "      <td>1.095811e+08</td>\n",
       "      <td>1703846.0</td>\n",
       "    </tr>\n",
       "    <tr>\n",
       "      <th>...</th>\n",
       "      <td>...</td>\n",
       "      <td>...</td>\n",
       "      <td>...</td>\n",
       "      <td>...</td>\n",
       "      <td>...</td>\n",
       "    </tr>\n",
       "    <tr>\n",
       "      <th>248</th>\n",
       "      <td>Kiribati</td>\n",
       "      <td>2017</td>\n",
       "      <td>2235.707275</td>\n",
       "      <td>1.141530e+05</td>\n",
       "      <td>16.0</td>\n",
       "    </tr>\n",
       "    <tr>\n",
       "      <th>42</th>\n",
       "      <td>Belgium</td>\n",
       "      <td>2019</td>\n",
       "      <td>51944.167969</td>\n",
       "      <td>1.153933e+07</td>\n",
       "      <td>16.0</td>\n",
       "    </tr>\n",
       "    <tr>\n",
       "      <th>214</th>\n",
       "      <td>Iceland</td>\n",
       "      <td>2019</td>\n",
       "      <td>56935.773438</td>\n",
       "      <td>3.390370e+05</td>\n",
       "      <td>15.0</td>\n",
       "    </tr>\n",
       "    <tr>\n",
       "      <th>213</th>\n",
       "      <td>Iceland</td>\n",
       "      <td>2018</td>\n",
       "      <td>56818.195312</td>\n",
       "      <td>3.367120e+05</td>\n",
       "      <td>14.0</td>\n",
       "    </tr>\n",
       "    <tr>\n",
       "      <th>212</th>\n",
       "      <td>Iceland</td>\n",
       "      <td>2017</td>\n",
       "      <td>55638.492188</td>\n",
       "      <td>3.343950e+05</td>\n",
       "      <td>9.0</td>\n",
       "    </tr>\n",
       "  </tbody>\n",
       "</table>\n",
       "<p>492 rows × 5 columns</p>\n",
       "</div>"
      ],
      "text/plain": [
       "         Country  Year  GDP_per_capita    Population  Metric_Tons\n",
       "79         China  2020    16315.815430  1.439324e+09    2777198.0\n",
       "78         China  2019    15977.645508  1.433784e+09    2683611.0\n",
       "77         China  2018    15133.996094  1.427648e+09    2498228.0\n",
       "76         China  2017    14243.532227  1.421022e+09    2290405.0\n",
       "371  Philippines  2020     7953.581543  1.095811e+08    1703846.0\n",
       "..           ...   ...             ...           ...          ...\n",
       "248     Kiribati  2017     2235.707275  1.141530e+05         16.0\n",
       "42       Belgium  2019    51944.167969  1.153933e+07         16.0\n",
       "214      Iceland  2019    56935.773438  3.390370e+05         15.0\n",
       "213      Iceland  2018    56818.195312  3.367120e+05         14.0\n",
       "212      Iceland  2017    55638.492188  3.343950e+05          9.0\n",
       "\n",
       "[492 rows x 5 columns]"
      ]
     },
     "execution_count": 5,
     "metadata": {},
     "output_type": "execute_result"
    }
   ],
   "source": [
    "all_countries_df.sort_values('Metric_Tons', ascending=False)"
   ]
  },
  {
   "cell_type": "code",
   "execution_count": 6,
   "id": "18052bc1",
   "metadata": {},
   "outputs": [
    {
     "data": {
      "text/html": [
       "<div>\n",
       "<style scoped>\n",
       "    .dataframe tbody tr th:only-of-type {\n",
       "        vertical-align: middle;\n",
       "    }\n",
       "\n",
       "    .dataframe tbody tr th {\n",
       "        vertical-align: top;\n",
       "    }\n",
       "\n",
       "    .dataframe thead th {\n",
       "        text-align: right;\n",
       "    }\n",
       "</style>\n",
       "<table border=\"1\" class=\"dataframe\">\n",
       "  <thead>\n",
       "    <tr style=\"text-align: right;\">\n",
       "      <th></th>\n",
       "      <th>Country</th>\n",
       "      <th>Year</th>\n",
       "      <th>GDP_per_capita</th>\n",
       "      <th>Population</th>\n",
       "      <th>Metric_Tons</th>\n",
       "    </tr>\n",
       "  </thead>\n",
       "  <tbody>\n",
       "    <tr>\n",
       "      <th>0</th>\n",
       "      <td>Albania</td>\n",
       "      <td>2017</td>\n",
       "      <td>12770.963867</td>\n",
       "      <td>2884169.0</td>\n",
       "      <td>16481.0</td>\n",
       "    </tr>\n",
       "    <tr>\n",
       "      <th>1</th>\n",
       "      <td>Albania</td>\n",
       "      <td>2018</td>\n",
       "      <td>13317.092773</td>\n",
       "      <td>2882735.0</td>\n",
       "      <td>18094.0</td>\n",
       "    </tr>\n",
       "    <tr>\n",
       "      <th>2</th>\n",
       "      <td>Albania</td>\n",
       "      <td>2019</td>\n",
       "      <td>13656.592773</td>\n",
       "      <td>2880913.0</td>\n",
       "      <td>18500.0</td>\n",
       "    </tr>\n",
       "    <tr>\n",
       "      <th>3</th>\n",
       "      <td>Albania</td>\n",
       "      <td>2020</td>\n",
       "      <td>13191.952148</td>\n",
       "      <td>2877800.0</td>\n",
       "      <td>20157.0</td>\n",
       "    </tr>\n",
       "    <tr>\n",
       "      <th>4</th>\n",
       "      <td>Algeria</td>\n",
       "      <td>2017</td>\n",
       "      <td>11737.401367</td>\n",
       "      <td>41389174.0</td>\n",
       "      <td>153459.0</td>\n",
       "    </tr>\n",
       "    <tr>\n",
       "      <th>...</th>\n",
       "      <td>...</td>\n",
       "      <td>...</td>\n",
       "      <td>...</td>\n",
       "      <td>...</td>\n",
       "      <td>...</td>\n",
       "    </tr>\n",
       "    <tr>\n",
       "      <th>491</th>\n",
       "      <td>Uruguay</td>\n",
       "      <td>2020</td>\n",
       "      <td>21608.429688</td>\n",
       "      <td>3473727.0</td>\n",
       "      <td>110834.0</td>\n",
       "    </tr>\n",
       "    <tr>\n",
       "      <th>492</th>\n",
       "      <td>Vanuatu</td>\n",
       "      <td>2017</td>\n",
       "      <td>3081.835205</td>\n",
       "      <td>285499.0</td>\n",
       "      <td>868.0</td>\n",
       "    </tr>\n",
       "    <tr>\n",
       "      <th>493</th>\n",
       "      <td>Vanuatu</td>\n",
       "      <td>2018</td>\n",
       "      <td>3093.461426</td>\n",
       "      <td>292675.0</td>\n",
       "      <td>841.0</td>\n",
       "    </tr>\n",
       "    <tr>\n",
       "      <th>494</th>\n",
       "      <td>Vanuatu</td>\n",
       "      <td>2019</td>\n",
       "      <td>3137.240967</td>\n",
       "      <td>299882.0</td>\n",
       "      <td>997.0</td>\n",
       "    </tr>\n",
       "    <tr>\n",
       "      <th>495</th>\n",
       "      <td>Vanuatu</td>\n",
       "      <td>2020</td>\n",
       "      <td>2854.292480</td>\n",
       "      <td>307150.0</td>\n",
       "      <td>975.0</td>\n",
       "    </tr>\n",
       "  </tbody>\n",
       "</table>\n",
       "<p>492 rows × 5 columns</p>\n",
       "</div>"
      ],
      "text/plain": [
       "     Country  Year  GDP_per_capita  Population  Metric_Tons\n",
       "0    Albania  2017    12770.963867   2884169.0      16481.0\n",
       "1    Albania  2018    13317.092773   2882735.0      18094.0\n",
       "2    Albania  2019    13656.592773   2880913.0      18500.0\n",
       "3    Albania  2020    13191.952148   2877800.0      20157.0\n",
       "4    Algeria  2017    11737.401367  41389174.0     153459.0\n",
       "..       ...   ...             ...         ...          ...\n",
       "491  Uruguay  2020    21608.429688   3473727.0     110834.0\n",
       "492  Vanuatu  2017     3081.835205    285499.0        868.0\n",
       "493  Vanuatu  2018     3093.461426    292675.0        841.0\n",
       "494  Vanuatu  2019     3137.240967    299882.0        997.0\n",
       "495  Vanuatu  2020     2854.292480    307150.0        975.0\n",
       "\n",
       "[492 rows x 5 columns]"
      ]
     },
     "execution_count": 6,
     "metadata": {},
     "output_type": "execute_result"
    }
   ],
   "source": [
    "all_countries_bins_df = all_countries_df.dropna(how='all')\n",
    "all_countries_bins_df"
   ]
  },
  {
   "cell_type": "code",
   "execution_count": 7,
   "id": "6b315ecb",
   "metadata": {},
   "outputs": [
    {
     "data": {
      "text/html": [
       "<div>\n",
       "<style scoped>\n",
       "    .dataframe tbody tr th:only-of-type {\n",
       "        vertical-align: middle;\n",
       "    }\n",
       "\n",
       "    .dataframe tbody tr th {\n",
       "        vertical-align: top;\n",
       "    }\n",
       "\n",
       "    .dataframe thead th {\n",
       "        text-align: right;\n",
       "    }\n",
       "</style>\n",
       "<table border=\"1\" class=\"dataframe\">\n",
       "  <thead>\n",
       "    <tr style=\"text-align: right;\">\n",
       "      <th></th>\n",
       "      <th>Year</th>\n",
       "      <th>GDP_per_capita</th>\n",
       "      <th>Population</th>\n",
       "      <th>Metric_Tons</th>\n",
       "    </tr>\n",
       "  </thead>\n",
       "  <tbody>\n",
       "    <tr>\n",
       "      <th>count</th>\n",
       "      <td>492.000000</td>\n",
       "      <td>492.000000</td>\n",
       "      <td>4.920000e+02</td>\n",
       "      <td>4.920000e+02</td>\n",
       "    </tr>\n",
       "    <tr>\n",
       "      <th>mean</th>\n",
       "      <td>2018.500000</td>\n",
       "      <td>20689.958433</td>\n",
       "      <td>4.844674e+07</td>\n",
       "      <td>8.422285e+04</td>\n",
       "    </tr>\n",
       "    <tr>\n",
       "      <th>std</th>\n",
       "      <td>1.119172</td>\n",
       "      <td>18513.595598</td>\n",
       "      <td>1.794625e+08</td>\n",
       "      <td>2.956064e+05</td>\n",
       "    </tr>\n",
       "    <tr>\n",
       "      <th>min</th>\n",
       "      <td>2017.000000</td>\n",
       "      <td>1079.112427</td>\n",
       "      <td>1.780900e+04</td>\n",
       "      <td>9.000000e+00</td>\n",
       "    </tr>\n",
       "    <tr>\n",
       "      <th>0%</th>\n",
       "      <td>2017.000000</td>\n",
       "      <td>1079.112427</td>\n",
       "      <td>1.780900e+04</td>\n",
       "      <td>9.000000e+00</td>\n",
       "    </tr>\n",
       "    <tr>\n",
       "      <th>33.3%</th>\n",
       "      <td>2018.000000</td>\n",
       "      <td>8582.505208</td>\n",
       "      <td>3.278150e+06</td>\n",
       "      <td>1.596333e+03</td>\n",
       "    </tr>\n",
       "    <tr>\n",
       "      <th>50%</th>\n",
       "      <td>2018.500000</td>\n",
       "      <td>14404.688477</td>\n",
       "      <td>7.674312e+06</td>\n",
       "      <td>5.878500e+03</td>\n",
       "    </tr>\n",
       "    <tr>\n",
       "      <th>66.7%</th>\n",
       "      <td>2019.000000</td>\n",
       "      <td>23415.389323</td>\n",
       "      <td>1.810052e+07</td>\n",
       "      <td>2.303100e+04</td>\n",
       "    </tr>\n",
       "    <tr>\n",
       "      <th>100%</th>\n",
       "      <td>2020.000000</td>\n",
       "      <td>91738.750000</td>\n",
       "      <td>1.439324e+09</td>\n",
       "      <td>2.777198e+06</td>\n",
       "    </tr>\n",
       "    <tr>\n",
       "      <th>max</th>\n",
       "      <td>2020.000000</td>\n",
       "      <td>91738.750000</td>\n",
       "      <td>1.439324e+09</td>\n",
       "      <td>2.777198e+06</td>\n",
       "    </tr>\n",
       "  </tbody>\n",
       "</table>\n",
       "</div>"
      ],
      "text/plain": [
       "              Year  GDP_per_capita    Population   Metric_Tons\n",
       "count   492.000000      492.000000  4.920000e+02  4.920000e+02\n",
       "mean   2018.500000    20689.958433  4.844674e+07  8.422285e+04\n",
       "std       1.119172    18513.595598  1.794625e+08  2.956064e+05\n",
       "min    2017.000000     1079.112427  1.780900e+04  9.000000e+00\n",
       "0%     2017.000000     1079.112427  1.780900e+04  9.000000e+00\n",
       "33.3%  2018.000000     8582.505208  3.278150e+06  1.596333e+03\n",
       "50%    2018.500000    14404.688477  7.674312e+06  5.878500e+03\n",
       "66.7%  2019.000000    23415.389323  1.810052e+07  2.303100e+04\n",
       "100%   2020.000000    91738.750000  1.439324e+09  2.777198e+06\n",
       "max    2020.000000    91738.750000  1.439324e+09  2.777198e+06"
      ]
     },
     "execution_count": 7,
     "metadata": {},
     "output_type": "execute_result"
    }
   ],
   "source": [
    "# all_countries_bins_df.describe()\n",
    "all_countries_bins_df.describe(percentiles=[0, 1/3, 2/3, 1])"
   ]
  },
  {
   "cell_type": "code",
   "execution_count": 8,
   "id": "1f470e6f",
   "metadata": {},
   "outputs": [
    {
     "data": {
      "image/png": "[encoded data removed]",
      "text/plain": [
       "<Figure size 864x576 with 1 Axes>"
      ]
     },
     "metadata": {},
     "output_type": "display_data"
    }
   ],
   "source": [
    "# Visualize the data\n",
    "\n",
    "%matplotlib inline\n",
    "\n",
    "plt.style.use('seaborn')\n",
    "plt.figure(2, figsize=(12,8))\n",
    "\n",
    "plt.scatter(all_countries_bins_df['GDP_per_capita'], all_countries_bins_df['Metric_Tons'])\n",
    "plt.title('Waste Generated by GDP', loc='center', fontsize=14)\n",
    "plt.ylabel('Waste per person(kg/day)', loc='center', fontsize=12)\n",
    "plt.xlabel('GDP per capita in PPP', fontsize=12)\n",
    "\n",
    "sns.regplot(x=all_countries_bins_df['GDP_per_capita'], y=all_countries_bins_df['Metric_Tons'],\n",
    "           scatter_kws={'color': '#CD212A'}, line_kws={'color': '#380282'})\n",
    "\n",
    "plt.show()"
   ]
  },
  {
   "cell_type": "code",
   "execution_count": 9,
   "id": "519a6384",
   "metadata": {},
   "outputs": [
    {
     "data": {
      "text/html": [
       "<div>\n",
       "<style scoped>\n",
       "    .dataframe tbody tr th:only-of-type {\n",
       "        vertical-align: middle;\n",
       "    }\n",
       "\n",
       "    .dataframe tbody tr th {\n",
       "        vertical-align: top;\n",
       "    }\n",
       "\n",
       "    .dataframe thead th {\n",
       "        text-align: right;\n",
       "    }\n",
       "</style>\n",
       "<table border=\"1\" class=\"dataframe\">\n",
       "  <thead>\n",
       "    <tr style=\"text-align: right;\">\n",
       "      <th></th>\n",
       "      <th>Year</th>\n",
       "      <th>GDP_per_capita</th>\n",
       "      <th>Population</th>\n",
       "      <th>Metric_Tons</th>\n",
       "    </tr>\n",
       "  </thead>\n",
       "  <tbody>\n",
       "    <tr>\n",
       "      <th>count</th>\n",
       "      <td>492.00</td>\n",
       "      <td>492.00</td>\n",
       "      <td>492.00</td>\n",
       "      <td>492.00</td>\n",
       "    </tr>\n",
       "    <tr>\n",
       "      <th>mean</th>\n",
       "      <td>2018.50</td>\n",
       "      <td>20689.96</td>\n",
       "      <td>48446738.34</td>\n",
       "      <td>84222.85</td>\n",
       "    </tr>\n",
       "    <tr>\n",
       "      <th>std</th>\n",
       "      <td>1.12</td>\n",
       "      <td>18513.60</td>\n",
       "      <td>179462450.94</td>\n",
       "      <td>295606.45</td>\n",
       "    </tr>\n",
       "    <tr>\n",
       "      <th>min</th>\n",
       "      <td>2017.00</td>\n",
       "      <td>1079.11</td>\n",
       "      <td>17809.00</td>\n",
       "      <td>9.00</td>\n",
       "    </tr>\n",
       "    <tr>\n",
       "      <th>25%</th>\n",
       "      <td>2017.75</td>\n",
       "      <td>5450.18</td>\n",
       "      <td>1402111.50</td>\n",
       "      <td>512.50</td>\n",
       "    </tr>\n",
       "    <tr>\n",
       "      <th>50%</th>\n",
       "      <td>2018.50</td>\n",
       "      <td>14404.69</td>\n",
       "      <td>7674312.50</td>\n",
       "      <td>5878.50</td>\n",
       "    </tr>\n",
       "    <tr>\n",
       "      <th>75%</th>\n",
       "      <td>2019.25</td>\n",
       "      <td>30073.45</td>\n",
       "      <td>31602349.50</td>\n",
       "      <td>31812.50</td>\n",
       "    </tr>\n",
       "    <tr>\n",
       "      <th>max</th>\n",
       "      <td>2020.00</td>\n",
       "      <td>91738.75</td>\n",
       "      <td>1439323774.00</td>\n",
       "      <td>2777198.00</td>\n",
       "    </tr>\n",
       "  </tbody>\n",
       "</table>\n",
       "</div>"
      ],
      "text/plain": [
       "          Year GDP_per_capita     Population Metric_Tons\n",
       "count   492.00         492.00         492.00      492.00\n",
       "mean   2018.50       20689.96    48446738.34    84222.85\n",
       "std       1.12       18513.60   179462450.94   295606.45\n",
       "min    2017.00        1079.11       17809.00        9.00\n",
       "25%    2017.75        5450.18     1402111.50      512.50\n",
       "50%    2018.50       14404.69     7674312.50     5878.50\n",
       "75%    2019.25       30073.45    31602349.50    31812.50\n",
       "max    2020.00       91738.75  1439323774.00  2777198.00"
      ]
     },
     "execution_count": 9,
     "metadata": {},
     "output_type": "execute_result"
    }
   ],
   "source": [
    "all_countries_bins_df.describe().applymap(lambda x: f\"{x:0.2f}\")"
   ]
  },
  {
   "cell_type": "code",
   "execution_count": 10,
   "id": "e72828fa",
   "metadata": {},
   "outputs": [],
   "source": [
    "# #Put all Metric Tons values into quartile bins\n",
    "# all_countries_bins_df['Metric_Tons'] = pd.cut(all_countries_bins_df.Metric_Tons, bins=4,\n",
    "#        labels=['low', 'medium', 'high', 'extreme'])"
   ]
  },
  {
   "cell_type": "code",
   "execution_count": 11,
   "id": "c9ce4e8c",
   "metadata": {},
   "outputs": [],
   "source": [
    "# Put all Metric Tons into bins\n",
    "custom_bins = [0, 512, 5878, 31812, 2800000]\n",
    "all_countries_bins_df['Metric_Tons'] = pd.cut(all_countries_bins_df.Metric_Tons, bins=custom_bins, right=True,\n",
    "                    labels=['low', 'medium', 'high', 'extreme'])"
   ]
  },
  {
   "cell_type": "code",
   "execution_count": 12,
   "id": "05deb829",
   "metadata": {},
   "outputs": [
    {
     "data": {
      "text/html": [
       "<div>\n",
       "<style scoped>\n",
       "    .dataframe tbody tr th:only-of-type {\n",
       "        vertical-align: middle;\n",
       "    }\n",
       "\n",
       "    .dataframe tbody tr th {\n",
       "        vertical-align: top;\n",
       "    }\n",
       "\n",
       "    .dataframe thead th {\n",
       "        text-align: right;\n",
       "    }\n",
       "</style>\n",
       "<table border=\"1\" class=\"dataframe\">\n",
       "  <thead>\n",
       "    <tr style=\"text-align: right;\">\n",
       "      <th></th>\n",
       "      <th>Country</th>\n",
       "      <th>Year</th>\n",
       "      <th>GDP_per_capita</th>\n",
       "      <th>Population</th>\n",
       "      <th>Metric_Tons</th>\n",
       "    </tr>\n",
       "  </thead>\n",
       "  <tbody>\n",
       "    <tr>\n",
       "      <th>0</th>\n",
       "      <td>Albania</td>\n",
       "      <td>2017</td>\n",
       "      <td>12770.963867</td>\n",
       "      <td>2884169.0</td>\n",
       "      <td>high</td>\n",
       "    </tr>\n",
       "    <tr>\n",
       "      <th>1</th>\n",
       "      <td>Albania</td>\n",
       "      <td>2018</td>\n",
       "      <td>13317.092773</td>\n",
       "      <td>2882735.0</td>\n",
       "      <td>high</td>\n",
       "    </tr>\n",
       "    <tr>\n",
       "      <th>2</th>\n",
       "      <td>Albania</td>\n",
       "      <td>2019</td>\n",
       "      <td>13656.592773</td>\n",
       "      <td>2880913.0</td>\n",
       "      <td>high</td>\n",
       "    </tr>\n",
       "    <tr>\n",
       "      <th>3</th>\n",
       "      <td>Albania</td>\n",
       "      <td>2020</td>\n",
       "      <td>13191.952148</td>\n",
       "      <td>2877800.0</td>\n",
       "      <td>high</td>\n",
       "    </tr>\n",
       "    <tr>\n",
       "      <th>4</th>\n",
       "      <td>Algeria</td>\n",
       "      <td>2017</td>\n",
       "      <td>11737.401367</td>\n",
       "      <td>41389174.0</td>\n",
       "      <td>extreme</td>\n",
       "    </tr>\n",
       "    <tr>\n",
       "      <th>...</th>\n",
       "      <td>...</td>\n",
       "      <td>...</td>\n",
       "      <td>...</td>\n",
       "      <td>...</td>\n",
       "      <td>...</td>\n",
       "    </tr>\n",
       "    <tr>\n",
       "      <th>491</th>\n",
       "      <td>Uruguay</td>\n",
       "      <td>2020</td>\n",
       "      <td>21608.429688</td>\n",
       "      <td>3473727.0</td>\n",
       "      <td>extreme</td>\n",
       "    </tr>\n",
       "    <tr>\n",
       "      <th>492</th>\n",
       "      <td>Vanuatu</td>\n",
       "      <td>2017</td>\n",
       "      <td>3081.835205</td>\n",
       "      <td>285499.0</td>\n",
       "      <td>medium</td>\n",
       "    </tr>\n",
       "    <tr>\n",
       "      <th>493</th>\n",
       "      <td>Vanuatu</td>\n",
       "      <td>2018</td>\n",
       "      <td>3093.461426</td>\n",
       "      <td>292675.0</td>\n",
       "      <td>medium</td>\n",
       "    </tr>\n",
       "    <tr>\n",
       "      <th>494</th>\n",
       "      <td>Vanuatu</td>\n",
       "      <td>2019</td>\n",
       "      <td>3137.240967</td>\n",
       "      <td>299882.0</td>\n",
       "      <td>medium</td>\n",
       "    </tr>\n",
       "    <tr>\n",
       "      <th>495</th>\n",
       "      <td>Vanuatu</td>\n",
       "      <td>2020</td>\n",
       "      <td>2854.292480</td>\n",
       "      <td>307150.0</td>\n",
       "      <td>medium</td>\n",
       "    </tr>\n",
       "  </tbody>\n",
       "</table>\n",
       "<p>492 rows × 5 columns</p>\n",
       "</div>"
      ],
      "text/plain": [
       "     Country  Year  GDP_per_capita  Population Metric_Tons\n",
       "0    Albania  2017    12770.963867   2884169.0        high\n",
       "1    Albania  2018    13317.092773   2882735.0        high\n",
       "2    Albania  2019    13656.592773   2880913.0        high\n",
       "3    Albania  2020    13191.952148   2877800.0        high\n",
       "4    Algeria  2017    11737.401367  41389174.0     extreme\n",
       "..       ...   ...             ...         ...         ...\n",
       "491  Uruguay  2020    21608.429688   3473727.0     extreme\n",
       "492  Vanuatu  2017     3081.835205    285499.0      medium\n",
       "493  Vanuatu  2018     3093.461426    292675.0      medium\n",
       "494  Vanuatu  2019     3137.240967    299882.0      medium\n",
       "495  Vanuatu  2020     2854.292480    307150.0      medium\n",
       "\n",
       "[492 rows x 5 columns]"
      ]
     },
     "execution_count": 12,
     "metadata": {},
     "output_type": "execute_result"
    }
   ],
   "source": [
    "all_countries_bins_df"
   ]
  },
  {
   "cell_type": "code",
   "execution_count": 13,
   "id": "086b0268",
   "metadata": {},
   "outputs": [],
   "source": [
    "target = ['Metric_Tons']"
   ]
  },
  {
   "cell_type": "markdown",
   "id": "be2ebed5",
   "metadata": {},
   "source": [
    "##  Split the Data into Training and Testing"
   ]
  },
  {
   "cell_type": "code",
   "execution_count": 14,
   "id": "121c6c33",
   "metadata": {},
   "outputs": [],
   "source": [
    "# Create our features\n",
    "X = all_countries_bins_df.drop(columns='Metric_Tons')\n",
    "X = pd.get_dummies(X)\n",
    "\n",
    "# Create our target\n",
    "y = all_countries_bins_df.loc[:, target].copy()"
   ]
  },
  {
   "cell_type": "code",
   "execution_count": 15,
   "id": "e638d26a",
   "metadata": {},
   "outputs": [
    {
     "data": {
      "text/html": [
       "<div>\n",
       "<style scoped>\n",
       "    .dataframe tbody tr th:only-of-type {\n",
       "        vertical-align: middle;\n",
       "    }\n",
       "\n",
       "    .dataframe tbody tr th {\n",
       "        vertical-align: top;\n",
       "    }\n",
       "\n",
       "    .dataframe thead th {\n",
       "        text-align: right;\n",
       "    }\n",
       "</style>\n",
       "<table border=\"1\" class=\"dataframe\">\n",
       "  <thead>\n",
       "    <tr style=\"text-align: right;\">\n",
       "      <th></th>\n",
       "      <th>Year</th>\n",
       "      <th>GDP_per_capita</th>\n",
       "      <th>Population</th>\n",
       "      <th>Country_Albania</th>\n",
       "      <th>Country_Algeria</th>\n",
       "      <th>Country_Angola</th>\n",
       "      <th>Country_Antigua and Barbuda</th>\n",
       "      <th>Country_Argentina</th>\n",
       "      <th>Country_Australia</th>\n",
       "      <th>Country_Bahamas</th>\n",
       "      <th>...</th>\n",
       "      <th>Country_Thailand</th>\n",
       "      <th>Country_Togo</th>\n",
       "      <th>Country_Tonga</th>\n",
       "      <th>Country_Trinidad and Tobago</th>\n",
       "      <th>Country_Tunisia</th>\n",
       "      <th>Country_Turkey</th>\n",
       "      <th>Country_Ukraine</th>\n",
       "      <th>Country_United Arab Emirates</th>\n",
       "      <th>Country_Uruguay</th>\n",
       "      <th>Country_Vanuatu</th>\n",
       "    </tr>\n",
       "  </thead>\n",
       "  <tbody>\n",
       "    <tr>\n",
       "      <th>count</th>\n",
       "      <td>492.000000</td>\n",
       "      <td>492.000000</td>\n",
       "      <td>4.920000e+02</td>\n",
       "      <td>492.000000</td>\n",
       "      <td>492.000000</td>\n",
       "      <td>492.000000</td>\n",
       "      <td>492.000000</td>\n",
       "      <td>492.000000</td>\n",
       "      <td>492.000000</td>\n",
       "      <td>492.000000</td>\n",
       "      <td>...</td>\n",
       "      <td>492.000000</td>\n",
       "      <td>492.000000</td>\n",
       "      <td>492.000000</td>\n",
       "      <td>492.000000</td>\n",
       "      <td>492.000000</td>\n",
       "      <td>492.000000</td>\n",
       "      <td>492.000000</td>\n",
       "      <td>492.000000</td>\n",
       "      <td>492.000000</td>\n",
       "      <td>492.000000</td>\n",
       "    </tr>\n",
       "    <tr>\n",
       "      <th>mean</th>\n",
       "      <td>2018.500000</td>\n",
       "      <td>20689.958433</td>\n",
       "      <td>4.844674e+07</td>\n",
       "      <td>0.008130</td>\n",
       "      <td>0.008130</td>\n",
       "      <td>0.008130</td>\n",
       "      <td>0.008130</td>\n",
       "      <td>0.008130</td>\n",
       "      <td>0.008130</td>\n",
       "      <td>0.008130</td>\n",
       "      <td>...</td>\n",
       "      <td>0.008130</td>\n",
       "      <td>0.008130</td>\n",
       "      <td>0.008130</td>\n",
       "      <td>0.008130</td>\n",
       "      <td>0.008130</td>\n",
       "      <td>0.008130</td>\n",
       "      <td>0.008130</td>\n",
       "      <td>0.008130</td>\n",
       "      <td>0.008130</td>\n",
       "      <td>0.008130</td>\n",
       "    </tr>\n",
       "    <tr>\n",
       "      <th>std</th>\n",
       "      <td>1.119172</td>\n",
       "      <td>18513.595598</td>\n",
       "      <td>1.794625e+08</td>\n",
       "      <td>0.089891</td>\n",
       "      <td>0.089891</td>\n",
       "      <td>0.089891</td>\n",
       "      <td>0.089891</td>\n",
       "      <td>0.089891</td>\n",
       "      <td>0.089891</td>\n",
       "      <td>0.089891</td>\n",
       "      <td>...</td>\n",
       "      <td>0.089891</td>\n",
       "      <td>0.089891</td>\n",
       "      <td>0.089891</td>\n",
       "      <td>0.089891</td>\n",
       "      <td>0.089891</td>\n",
       "      <td>0.089891</td>\n",
       "      <td>0.089891</td>\n",
       "      <td>0.089891</td>\n",
       "      <td>0.089891</td>\n",
       "      <td>0.089891</td>\n",
       "    </tr>\n",
       "    <tr>\n",
       "      <th>min</th>\n",
       "      <td>2017.000000</td>\n",
       "      <td>1079.112427</td>\n",
       "      <td>1.780900e+04</td>\n",
       "      <td>0.000000</td>\n",
       "      <td>0.000000</td>\n",
       "      <td>0.000000</td>\n",
       "      <td>0.000000</td>\n",
       "      <td>0.000000</td>\n",
       "      <td>0.000000</td>\n",
       "      <td>0.000000</td>\n",
       "      <td>...</td>\n",
       "      <td>0.000000</td>\n",
       "      <td>0.000000</td>\n",
       "      <td>0.000000</td>\n",
       "      <td>0.000000</td>\n",
       "      <td>0.000000</td>\n",
       "      <td>0.000000</td>\n",
       "      <td>0.000000</td>\n",
       "      <td>0.000000</td>\n",
       "      <td>0.000000</td>\n",
       "      <td>0.000000</td>\n",
       "    </tr>\n",
       "    <tr>\n",
       "      <th>25%</th>\n",
       "      <td>2017.750000</td>\n",
       "      <td>5450.180542</td>\n",
       "      <td>1.402112e+06</td>\n",
       "      <td>0.000000</td>\n",
       "      <td>0.000000</td>\n",
       "      <td>0.000000</td>\n",
       "      <td>0.000000</td>\n",
       "      <td>0.000000</td>\n",
       "      <td>0.000000</td>\n",
       "      <td>0.000000</td>\n",
       "      <td>...</td>\n",
       "      <td>0.000000</td>\n",
       "      <td>0.000000</td>\n",
       "      <td>0.000000</td>\n",
       "      <td>0.000000</td>\n",
       "      <td>0.000000</td>\n",
       "      <td>0.000000</td>\n",
       "      <td>0.000000</td>\n",
       "      <td>0.000000</td>\n",
       "      <td>0.000000</td>\n",
       "      <td>0.000000</td>\n",
       "    </tr>\n",
       "    <tr>\n",
       "      <th>50%</th>\n",
       "      <td>2018.500000</td>\n",
       "      <td>14404.688477</td>\n",
       "      <td>7.674312e+06</td>\n",
       "      <td>0.000000</td>\n",
       "      <td>0.000000</td>\n",
       "      <td>0.000000</td>\n",
       "      <td>0.000000</td>\n",
       "      <td>0.000000</td>\n",
       "      <td>0.000000</td>\n",
       "      <td>0.000000</td>\n",
       "      <td>...</td>\n",
       "      <td>0.000000</td>\n",
       "      <td>0.000000</td>\n",
       "      <td>0.000000</td>\n",
       "      <td>0.000000</td>\n",
       "      <td>0.000000</td>\n",
       "      <td>0.000000</td>\n",
       "      <td>0.000000</td>\n",
       "      <td>0.000000</td>\n",
       "      <td>0.000000</td>\n",
       "      <td>0.000000</td>\n",
       "    </tr>\n",
       "    <tr>\n",
       "      <th>75%</th>\n",
       "      <td>2019.250000</td>\n",
       "      <td>30073.445312</td>\n",
       "      <td>3.160235e+07</td>\n",
       "      <td>0.000000</td>\n",
       "      <td>0.000000</td>\n",
       "      <td>0.000000</td>\n",
       "      <td>0.000000</td>\n",
       "      <td>0.000000</td>\n",
       "      <td>0.000000</td>\n",
       "      <td>0.000000</td>\n",
       "      <td>...</td>\n",
       "      <td>0.000000</td>\n",
       "      <td>0.000000</td>\n",
       "      <td>0.000000</td>\n",
       "      <td>0.000000</td>\n",
       "      <td>0.000000</td>\n",
       "      <td>0.000000</td>\n",
       "      <td>0.000000</td>\n",
       "      <td>0.000000</td>\n",
       "      <td>0.000000</td>\n",
       "      <td>0.000000</td>\n",
       "    </tr>\n",
       "    <tr>\n",
       "      <th>max</th>\n",
       "      <td>2020.000000</td>\n",
       "      <td>91738.750000</td>\n",
       "      <td>1.439324e+09</td>\n",
       "      <td>1.000000</td>\n",
       "      <td>1.000000</td>\n",
       "      <td>1.000000</td>\n",
       "      <td>1.000000</td>\n",
       "      <td>1.000000</td>\n",
       "      <td>1.000000</td>\n",
       "      <td>1.000000</td>\n",
       "      <td>...</td>\n",
       "      <td>1.000000</td>\n",
       "      <td>1.000000</td>\n",
       "      <td>1.000000</td>\n",
       "      <td>1.000000</td>\n",
       "      <td>1.000000</td>\n",
       "      <td>1.000000</td>\n",
       "      <td>1.000000</td>\n",
       "      <td>1.000000</td>\n",
       "      <td>1.000000</td>\n",
       "      <td>1.000000</td>\n",
       "    </tr>\n",
       "  </tbody>\n",
       "</table>\n",
       "<p>8 rows × 126 columns</p>\n",
       "</div>"
      ],
      "text/plain": [
       "              Year  GDP_per_capita    Population  Country_Albania  \\\n",
       "count   492.000000      492.000000  4.920000e+02       492.000000   \n",
       "mean   2018.500000    20689.958433  4.844674e+07         0.008130   \n",
       "std       1.119172    18513.595598  1.794625e+08         0.089891   \n",
       "min    2017.000000     1079.112427  1.780900e+04         0.000000   \n",
       "25%    2017.750000     5450.180542  1.402112e+06         0.000000   \n",
       "50%    2018.500000    14404.688477  7.674312e+06         0.000000   \n",
       "75%    2019.250000    30073.445312  3.160235e+07         0.000000   \n",
       "max    2020.000000    91738.750000  1.439324e+09         1.000000   \n",
       "\n",
       "       Country_Algeria  Country_Angola  Country_Antigua and Barbuda  \\\n",
       "count       492.000000      492.000000                   492.000000   \n",
       "mean          0.008130        0.008130                     0.008130   \n",
       "std           0.089891        0.089891                     0.089891   \n",
       "min           0.000000        0.000000                     0.000000   \n",
       "25%           0.000000        0.000000                     0.000000   \n",
       "50%           0.000000        0.000000                     0.000000   \n",
       "75%           0.000000        0.000000                     0.000000   \n",
       "max           1.000000        1.000000                     1.000000   \n",
       "\n",
       "       Country_Argentina  Country_Australia  Country_Bahamas  ...  \\\n",
       "count         492.000000         492.000000       492.000000  ...   \n",
       "mean            0.008130           0.008130         0.008130  ...   \n",
       "std             0.089891           0.089891         0.089891  ...   \n",
       "min             0.000000           0.000000         0.000000  ...   \n",
       "25%             0.000000           0.000000         0.000000  ...   \n",
       "50%             0.000000           0.000000         0.000000  ...   \n",
       "75%             0.000000           0.000000         0.000000  ...   \n",
       "max             1.000000           1.000000         1.000000  ...   \n",
       "\n",
       "       Country_Thailand  Country_Togo  Country_Tonga  \\\n",
       "count        492.000000    492.000000     492.000000   \n",
       "mean           0.008130      0.008130       0.008130   \n",
       "std            0.089891      0.089891       0.089891   \n",
       "min            0.000000      0.000000       0.000000   \n",
       "25%            0.000000      0.000000       0.000000   \n",
       "50%            0.000000      0.000000       0.000000   \n",
       "75%            0.000000      0.000000       0.000000   \n",
       "max            1.000000      1.000000       1.000000   \n",
       "\n",
       "       Country_Trinidad and Tobago  Country_Tunisia  Country_Turkey  \\\n",
       "count                   492.000000       492.000000      492.000000   \n",
       "mean                      0.008130         0.008130        0.008130   \n",
       "std                       0.089891         0.089891        0.089891   \n",
       "min                       0.000000         0.000000        0.000000   \n",
       "25%                       0.000000         0.000000        0.000000   \n",
       "50%                       0.000000         0.000000        0.000000   \n",
       "75%                       0.000000         0.000000        0.000000   \n",
       "max                       1.000000         1.000000        1.000000   \n",
       "\n",
       "       Country_Ukraine  Country_United Arab Emirates  Country_Uruguay  \\\n",
       "count       492.000000                    492.000000       492.000000   \n",
       "mean          0.008130                      0.008130         0.008130   \n",
       "std           0.089891                      0.089891         0.089891   \n",
       "min           0.000000                      0.000000         0.000000   \n",
       "25%           0.000000                      0.000000         0.000000   \n",
       "50%           0.000000                      0.000000         0.000000   \n",
       "75%           0.000000                      0.000000         0.000000   \n",
       "max           1.000000                      1.000000         1.000000   \n",
       "\n",
       "       Country_Vanuatu  \n",
       "count       492.000000  \n",
       "mean          0.008130  \n",
       "std           0.089891  \n",
       "min           0.000000  \n",
       "25%           0.000000  \n",
       "50%           0.000000  \n",
       "75%           0.000000  \n",
       "max           1.000000  \n",
       "\n",
       "[8 rows x 126 columns]"
      ]
     },
     "execution_count": 15,
     "metadata": {},
     "output_type": "execute_result"
    }
   ],
   "source": [
    "X.describe()"
   ]
  },
  {
   "cell_type": "code",
   "execution_count": 16,
   "id": "3d8b2fb9",
   "metadata": {},
   "outputs": [
    {
     "data": {
      "text/plain": [
       "low        123\n",
       "medium     123\n",
       "high       123\n",
       "extreme    123\n",
       "Name: Metric_Tons, dtype: int64"
      ]
     },
     "execution_count": 16,
     "metadata": {},
     "output_type": "execute_result"
    }
   ],
   "source": [
    "# Check the balance of our target values\n",
    "y['Metric_Tons'].value_counts()"
   ]
  },
  {
   "cell_type": "code",
   "execution_count": 17,
   "id": "986708ca",
   "metadata": {},
   "outputs": [],
   "source": [
    "from sklearn.model_selection import train_test_split\n",
    "X_train, X_test, y_train, y_test = train_test_split(X, y, random_state=1)"
   ]
  },
  {
   "cell_type": "markdown",
   "id": "e64d06fc",
   "metadata": {},
   "source": [
    "##  Oversampling"
   ]
  },
  {
   "cell_type": "markdown",
   "id": "0532fe0c",
   "metadata": {},
   "source": [
    "###  Naive Random Oversampling"
   ]
  },
  {
   "cell_type": "code",
   "execution_count": 18,
   "id": "fe2b4320",
   "metadata": {},
   "outputs": [
    {
     "data": {
      "text/plain": [
       "Counter({'Metric_Tons': 1})"
      ]
     },
     "execution_count": 18,
     "metadata": {},
     "output_type": "execute_result"
    }
   ],
   "source": [
    " # Resample the training data with the RandomOversampler\n",
    "from imblearn.over_sampling import RandomOverSampler\n",
    "ros = RandomOverSampler(random_state=1)\n",
    "X_resampled, y_resampled = ros.fit_resample(X_train, y_train)\n",
    "Counter(y_resampled)"
   ]
  },
  {
   "cell_type": "code",
   "execution_count": 19,
   "id": "def7a96f",
   "metadata": {},
   "outputs": [
    {
     "data": {
      "text/plain": [
       "LogisticRegression(random_state=1)"
      ]
     },
     "execution_count": 19,
     "metadata": {},
     "output_type": "execute_result"
    }
   ],
   "source": [
    "# Train the Logistic Regression model using the resampled data\n",
    "from sklearn.linear_model import LogisticRegression\n",
    "model = LogisticRegression(solver='lbfgs', random_state=1)\n",
    "model.fit(X_resampled, y_resampled)"
   ]
  },
  {
   "cell_type": "code",
   "execution_count": 20,
   "id": "c1b62913",
   "metadata": {},
   "outputs": [
    {
     "data": {
      "text/plain": [
       "LogisticRegression(random_state=1)"
      ]
     },
     "execution_count": 20,
     "metadata": {},
     "output_type": "execute_result"
    }
   ],
   "source": [
    "LogisticRegression(random_state=1)"
   ]
  },
  {
   "cell_type": "code",
   "execution_count": 21,
   "id": "0ac48d4b",
   "metadata": {},
   "outputs": [
    {
     "data": {
      "text/plain": [
       "0.5431034482758621"
      ]
     },
     "execution_count": 21,
     "metadata": {},
     "output_type": "execute_result"
    }
   ],
   "source": [
    " # Calculated the balanced accuracy score\n",
    "from sklearn.metrics import balanced_accuracy_score\n",
    "y_pred = model.predict(X_test)\n",
    "balanced_accuracy_score(y_test, y_pred)"
   ]
  },
  {
   "cell_type": "code",
   "execution_count": 22,
   "id": "ad96a8e3",
   "metadata": {},
   "outputs": [
    {
     "data": {
      "text/plain": [
       "array([[26,  0,  1,  2],\n",
       "       [11,  0, 11, 10],\n",
       "       [ 0,  0, 33,  0],\n",
       "       [ 3,  0, 18,  8]], dtype=int64)"
      ]
     },
     "execution_count": 22,
     "metadata": {},
     "output_type": "execute_result"
    }
   ],
   "source": [
    " # Display the confusion matrix\n",
    "from sklearn.metrics import confusion_matrix\n",
    "confusion_matrix(y_test, y_pred)"
   ]
  },
  {
   "cell_type": "code",
   "execution_count": 23,
   "id": "92718e0b",
   "metadata": {},
   "outputs": [
    {
     "name": "stdout",
     "output_type": "stream",
     "text": [
      "                   pre       rec       spe        f1       geo       iba       sup\n",
      "\n",
      "    extreme       0.65      0.90      0.85      0.75      0.87      0.77        29\n",
      "       high       0.00      0.00      1.00      0.00      0.00      0.00        32\n",
      "        low       0.52      1.00      0.67      0.69      0.82      0.69        33\n",
      "     medium       0.40      0.28      0.87      0.33      0.49      0.23        29\n",
      "\n",
      "avg / total       0.39      0.54      0.85      0.44      0.54      0.42       123\n",
      "\n"
     ]
    }
   ],
   "source": [
    "# Print the imbalanced classification report\n",
    "from imblearn.metrics import classification_report_imbalanced\n",
    "print(classification_report_imbalanced(y_test, y_pred))"
   ]
  },
  {
   "cell_type": "markdown",
   "id": "f0cd36e8",
   "metadata": {},
   "source": [
    "###  SMOTE Oversampling"
   ]
  },
  {
   "cell_type": "code",
   "execution_count": 24,
   "id": "c0cfd2c5",
   "metadata": {},
   "outputs": [
    {
     "data": {
      "text/plain": [
       "Counter({'Metric_Tons': 1})"
      ]
     },
     "execution_count": 24,
     "metadata": {},
     "output_type": "execute_result"
    }
   ],
   "source": [
    "# # Resample the training data with SMOTE\n",
    "from imblearn.over_sampling import SMOTE\n",
    "X_resampled, y_resampled = SMOTE(random_state=1, sampling_strategy='auto').fit_resample(X_train, y_train)\n",
    "from collections import Counter\n",
    "Counter(y_resampled)\n",
    "\n"
   ]
  },
  {
   "cell_type": "code",
   "execution_count": 25,
   "id": "7a064bf4",
   "metadata": {},
   "outputs": [
    {
     "data": {
      "text/plain": [
       "Counter({'Metric_Tons': 1})"
      ]
     },
     "execution_count": 25,
     "metadata": {},
     "output_type": "execute_result"
    }
   ],
   "source": [
    " Counter({'Metric_Tons': 1})"
   ]
  },
  {
   "cell_type": "code",
   "execution_count": 26,
   "id": "1fd52b0c",
   "metadata": {},
   "outputs": [
    {
     "data": {
      "text/plain": [
       "LogisticRegression(random_state=1)"
      ]
     },
     "execution_count": 26,
     "metadata": {},
     "output_type": "execute_result"
    }
   ],
   "source": [
    "# Train the Logistic Regression model using the resampled data\n",
    "model = LogisticRegression(solver='lbfgs', random_state=1)\n",
    "model.fit(X_resampled, y_resampled)"
   ]
  },
  {
   "cell_type": "code",
   "execution_count": 27,
   "id": "66dbeeb1",
   "metadata": {},
   "outputs": [
    {
     "data": {
      "text/plain": [
       "0.5743534482758621"
      ]
     },
     "execution_count": 27,
     "metadata": {},
     "output_type": "execute_result"
    }
   ],
   "source": [
    "# Calculated the balanced accuracy score\n",
    "y_pred = model.predict(X_test)\n",
    "balanced_accuracy_score(y_test, y_pred)"
   ]
  },
  {
   "cell_type": "code",
   "execution_count": 28,
   "id": "3fb00761",
   "metadata": {},
   "outputs": [
    {
     "data": {
      "text/plain": [
       "array([[26,  0,  1,  2],\n",
       "       [ 9,  4, 11,  8],\n",
       "       [ 0,  0, 33,  0],\n",
       "       [ 3,  0, 18,  8]], dtype=int64)"
      ]
     },
     "execution_count": 28,
     "metadata": {},
     "output_type": "execute_result"
    }
   ],
   "source": [
    " # Display the confusion matrix\n",
    "confusion_matrix(y_test, y_pred)"
   ]
  },
  {
   "cell_type": "code",
   "execution_count": 29,
   "id": "b72643fa",
   "metadata": {},
   "outputs": [
    {
     "name": "stdout",
     "output_type": "stream",
     "text": [
      "                   pre       rec       spe        f1       geo       iba       sup\n",
      "\n",
      "    extreme       0.68      0.90      0.87      0.78      0.88      0.78        29\n",
      "       high       1.00      0.12      1.00      0.22      0.35      0.11        32\n",
      "        low       0.52      1.00      0.67      0.69      0.82      0.69        33\n",
      "     medium       0.44      0.28      0.89      0.34      0.50      0.23        29\n",
      "\n",
      "avg / total       0.67      0.58      0.86      0.51      0.64      0.45       123\n",
      "\n"
     ]
    }
   ],
   "source": [
    " # Print the imbalanced classification report\n",
    "print(classification_report_imbalanced(y_test, y_pred))"
   ]
  },
  {
   "cell_type": "markdown",
   "id": "bce6d66b",
   "metadata": {},
   "source": [
    "###  Undersampling"
   ]
  },
  {
   "cell_type": "code",
   "execution_count": 30,
   "id": "477721fb",
   "metadata": {},
   "outputs": [
    {
     "data": {
      "text/plain": [
       "Counter({'Metric_Tons': 1})"
      ]
     },
     "execution_count": 30,
     "metadata": {},
     "output_type": "execute_result"
    }
   ],
   "source": [
    "# Resample the data using the ClusterCentroids resampler\n",
    "# Warning: This is a large dataset, and this step may take some time to complete\n",
    "from imblearn.under_sampling import ClusterCentroids\n",
    "cc = ClusterCentroids(random_state=1)\n",
    "X_resampled, y_resampled = cc.fit_resample(X_train, y_train)\n",
    "from collections import Counter\n",
    "Counter(y_resampled)"
   ]
  },
  {
   "cell_type": "code",
   "execution_count": 31,
   "id": "7f42cda9",
   "metadata": {},
   "outputs": [
    {
     "data": {
      "text/plain": [
       "LogisticRegression(random_state=1)"
      ]
     },
     "execution_count": 31,
     "metadata": {},
     "output_type": "execute_result"
    }
   ],
   "source": [
    "# Train the Logistic Regression model using the resampled data\n",
    "model = LogisticRegression(solver='lbfgs', random_state=1)\n",
    "model.fit(X_resampled, y_resampled)"
   ]
  },
  {
   "cell_type": "code",
   "execution_count": 32,
   "id": "aa799ca9",
   "metadata": {},
   "outputs": [
    {
     "data": {
      "text/plain": [
       "0.5431034482758621"
      ]
     },
     "execution_count": 32,
     "metadata": {},
     "output_type": "execute_result"
    }
   ],
   "source": [
    "# Calculated the balanced accuracy score\n",
    "y_pred = model.predict(X_test)\n",
    "balanced_accuracy_score(y_test, y_pred)"
   ]
  },
  {
   "cell_type": "code",
   "execution_count": 33,
   "id": "9a020ce7",
   "metadata": {},
   "outputs": [
    {
     "data": {
      "text/plain": [
       "array([[26,  0,  1,  2],\n",
       "       [11,  0, 10, 11],\n",
       "       [ 0,  0, 33,  0],\n",
       "       [ 3,  0, 18,  8]], dtype=int64)"
      ]
     },
     "execution_count": 33,
     "metadata": {},
     "output_type": "execute_result"
    }
   ],
   "source": [
    "# Display the confusion matrix\n",
    "confusion_matrix(y_test, y_pred)"
   ]
  },
  {
   "cell_type": "code",
   "execution_count": 34,
   "id": "f50e06ed",
   "metadata": {},
   "outputs": [
    {
     "name": "stdout",
     "output_type": "stream",
     "text": [
      "                   pre       rec       spe        f1       geo       iba       sup\n",
      "\n",
      "    extreme       0.65      0.90      0.85      0.75      0.87      0.77        29\n",
      "       high       0.00      0.00      1.00      0.00      0.00      0.00        32\n",
      "        low       0.53      1.00      0.68      0.69      0.82      0.70        33\n",
      "     medium       0.38      0.28      0.86      0.32      0.49      0.22        29\n",
      "\n",
      "avg / total       0.39      0.54      0.85      0.44      0.54      0.42       123\n",
      "\n"
     ]
    }
   ],
   "source": [
    " # Print the imbalanced classification report\n",
    "print(classification_report_imbalanced(y_test, y_pred))"
   ]
  },
  {
   "cell_type": "code",
   "execution_count": 35,
   "id": "048f4e06",
   "metadata": {},
   "outputs": [
    {
     "name": "stdout",
     "output_type": "stream",
     "text": [
      "                   pre       rec       spe        f1       geo       iba       sup\n",
      "\n",
      "    extreme       0.65      0.90      0.85      0.75      0.87      0.77        29\n",
      "       high       0.00      0.00      1.00      0.00      0.00      0.00        32\n",
      "        low       0.53      1.00      0.68      0.69      0.82      0.70        33\n",
      "     medium       0.38      0.28      0.86      0.32      0.49      0.22        29\n",
      "\n",
      "avg / total       0.39      0.54      0.85      0.44      0.54      0.42       123\n",
      "\n"
     ]
    }
   ],
   "source": [
    " # Print the imbalanced classification report\n",
    "print(classification_report_imbalanced(y_test, y_pred))"
   ]
  },
  {
   "cell_type": "code",
   "execution_count": 36,
   "id": "21afaa56",
   "metadata": {},
   "outputs": [
    {
     "data": {
      "text/plain": [
       "Counter({'Metric_Tons': 1})"
      ]
     },
     "execution_count": 36,
     "metadata": {},
     "output_type": "execute_result"
    }
   ],
   "source": [
    "# Resample the training data with SMOTEENN\n",
    "# Warning: This is a large dataset, and this step may take some time to complete\n",
    "from imblearn.combine import SMOTEENN\n",
    "smote_enn = SMOTEENN(random_state=1)\n",
    "X_resampled, y_resampled = smote_enn.fit_resample(X_train, y_train)\n",
    "from collections import Counter\n",
    "Counter(y_resampled)"
   ]
  }
 ],
 "metadata": {
  "kernelspec": {
   "display_name": "mlenv",
   "language": "python",
   "name": "mlenv"
  },
  "language_info": {
   "codemirror_mode": {
    "name": "ipython",
    "version": 3
   },
   "file_extension": ".py",
   "mimetype": "text/x-python",
   "name": "python",
   "nbconvert_exporter": "python",
   "pygments_lexer": "ipython3",
   "version": "3.7.13"
  }
 },
 "nbformat": 4,
 "nbformat_minor": 5
}
