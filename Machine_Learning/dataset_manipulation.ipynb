{
 "cells": [
  {
   "cell_type": "code",
   "execution_count": null,
   "id": "cea246f3",
   "metadata": {},
   "outputs": [],
   "source": [
    "import numpy as np\n",
    "import pandas as pd\n",
    "from pathlib import Path\n",
    "from collections import Counter\n",
    "import s3fs\n",
    "import matplotlib.pyplot as plt\n",
    "from sklearn.linear_model import LinearRegression\n",
    "import pycountry"
   ]
  },
  {
   "cell_type": "code",
   "execution_count": null,
   "id": "4a661f5d",
   "metadata": {},
   "outputs": [],
   "source": [
    "from sklearn.metrics import balanced_accuracy_score\n",
    "from sklearn.metrics import confusion_matrix\n",
    "from imblearn.metrics import classification_report_imbalanced"
   ]
  },
  {
   "cell_type": "code",
   "execution_count": null,
   "id": "93483520",
   "metadata": {},
   "outputs": [],
   "source": [
    "# Load the data\n",
    "# csv file\n",
    "url = \"https://plasticpollution.s3.amazonaws.com/MLW_data_clean.csv\"\n",
    "MLW_data_df = pd.read_csv(url)\n",
    "MLW_data_df"
   ]
  },
  {
   "cell_type": "code",
   "execution_count": null,
   "id": "d632e950",
   "metadata": {},
   "outputs": [],
   "source": [
    "MLW_raw_df = pd.read_csv(r\"C:\\Users\\mommy\\Repositories\\Dev\\Analysis Projects\\Ocean_Plastic_Pollution\\Resources\\MLW_Data.csv\", encoding=\"iso-8859-1\")\n",
    "MLW_raw_df.EventDate = pd.to_datetime(MLW_raw_df.EventDate, format = \"%Y%m%d\").dt.year\n",
    "# df.EventDate = pd.to_datetime(df.EventDate, format = \"%Y%m%d\")\n",
    "# df.EventDate.unique()\n",
    "# df.groupby(\"BeachCountrycode\").sum()\n",
    "# df.EventDate\n",
    "MLW_raw_df"
   ]
  },
  {
   "cell_type": "code",
   "execution_count": null,
   "id": "617d7e0e",
   "metadata": {},
   "outputs": [],
   "source": [
    "MLW_clean = MLW_raw_df.rename(columns={'BeachCountrycode': 'country_code'})\n",
    "MLW_clean.head(75)"
   ]
  },
  {
   "cell_type": "code",
   "execution_count": null,
   "id": "c34be7a7",
   "metadata": {},
   "outputs": [],
   "source": [
    "# Replace NaN values with empty string on country_code column\n",
    "MLW_clean = MLW_clean.replace(np.nan, '', regex=True)\n",
    "# country_code_df[['country_code']].fillna('')\n",
    "MLW_clean"
   ]
  },
  {
   "cell_type": "code",
   "execution_count": null,
   "id": "f86d1495",
   "metadata": {},
   "outputs": [],
   "source": [
    "country_code_df = pd.DataFrame(MLW_clean.country_code.unique())\n",
    "country_code_df.columns = ['country_code']\n",
    "country_code_df"
   ]
  },
  {
   "cell_type": "code",
   "execution_count": null,
   "id": "39e544b6",
   "metadata": {},
   "outputs": [],
   "source": [
    "country_code_df\n",
    "\n",
    "list_alpha_2 = [i.alpha_2 for i in list(pycountry.countries)]\n",
    "list_alpha_3 = [i.alpha_3 for i in list(pycountry.countries)] \n",
    "\n",
    "def country_flag(df):\n",
    "    if (len(df['country_code'])==2 and df['country_code'] in list_alpha_2):\n",
    "        return pycountry.countries.get(alpha_2=df['country_code']).name\n",
    "    elif (len(df['country_code'])==3 and df['country_code'] in list_alpha_3):\n",
    "        return pycountry.countries.get(alpha_3=df['country_code']).name\n",
    "    else:\n",
    "        return 'xxxx'\n",
    "\n",
    "country_code_df['country_name']=country_code_df.apply(country_flag, axis = 1)\n",
    "country_code_df"
   ]
  },
  {
   "cell_type": "code",
   "execution_count": null,
   "id": "aab9008a",
   "metadata": {},
   "outputs": [],
   "source": [
    "MLW_clean['country_code'] = MLW_clean['country_code'].map(country_code_df.set_index('country_code')['country_name'])\n",
    "# MLW_clean.rename(columns={'country_code' : 'Country'}, inplace=True)\n",
    "MLW_clean"
   ]
  },
  {
   "cell_type": "code",
   "execution_count": null,
   "id": "5d28c09a",
   "metadata": {},
   "outputs": [],
   "source": [
    "MLW_clean_df = MLW_clean.loc[MLW_clean['EventDate'].isin([2017, 2018, 2019, 2020, 2021])]\n",
    "MLW_clean_df"
   ]
  },
  {
   "cell_type": "code",
   "execution_count": null,
   "id": "bf9c0ca1",
   "metadata": {},
   "outputs": [],
   "source": [
    "MLW_clean_df = MLW_clean_df.rename(columns={'country_code': 'Country'})\n",
    "MLW_clean_df"
   ]
  },
  {
   "cell_type": "code",
   "execution_count": null,
   "id": "018d395e",
   "metadata": {},
   "outputs": [],
   "source": [
    "MLW_clean_df = MLW_clean_df.drop(columns=['CommunityName', 'BeachName', 'BeachRegionalSea', 'BeachLocation', 'BeachType', 'EventType', 'NatRef', 'lon_x1', 'lat_y2'])\n",
    "MLW_clean_df"
   ]
  },
  {
   "cell_type": "code",
   "execution_count": null,
   "id": "a87f6325",
   "metadata": {},
   "outputs": [],
   "source": [
    "MLW_clean_df = MLW_clean_df.drop(columns=['lat_y1', 'lon_x2'])\n",
    "MLW_clean_df"
   ]
  },
  {
   "cell_type": "code",
   "execution_count": null,
   "id": "ddb1d23e",
   "metadata": {},
   "outputs": [],
   "source": [
    "# Load the data \n",
    "# CSV File from S3 MLW_meta\n",
    "url = \"https://plasticpollution.s3.amazonaws.com/MLW_meta_clean.csv\"\n",
    "MLW_meta_df = pd.read_csv(url)\n",
    "MLW_meta_df"
   ]
  },
  {
   "cell_type": "code",
   "execution_count": null,
   "id": "9792e924",
   "metadata": {},
   "outputs": [],
   "source": [
    "# Load the data \n",
    "# CSV File from S3 Mismanagement\n",
    "url = \"https://plasticpollution.s3.amazonaws.com/Plastic_waste_mismanagement_clean.csv\"\n",
    "mismanagement_df = pd.read_csv(url)\n",
    "mismanagement_df"
   ]
  },
  {
   "cell_type": "code",
   "execution_count": null,
   "id": "edf8af34",
   "metadata": {},
   "outputs": [],
   "source": [
    "# Rename columns\n",
    "mismanagement_df = mismanagement_df.rename(columns={\"PlasticWaste(metric tons)\": \"Metric_Tons\"})\n",
    "mismanagement_df"
   ]
  },
  {
   "cell_type": "code",
   "execution_count": null,
   "id": "676ff63f",
   "metadata": {},
   "outputs": [],
   "source": [
    "# Load the data \n",
    "# CSV File from S3\n",
    "url = 'https://plasticpollution.s3.amazonaws.com/pbt_clean.csv'\n",
    "pbt_df = pd.read_csv(url)\n",
    "pbt_df"
   ]
  },
  {
   "cell_type": "code",
   "execution_count": null,
   "id": "62849bb3",
   "metadata": {},
   "outputs": [],
   "source": [
    "# Rename columns \n",
    "pbt_df = pbt_df.rename(columns={'COUNTRY NAME' : 'Country', 'YEAR' : 'Year', 'VALUE' : 'Metric_Tons'})\n",
    "pbt_df.Year.unique()\n",
    "# pbt_df"
   ]
  },
  {
   "cell_type": "code",
   "execution_count": null,
   "id": "2eb6aa54",
   "metadata": {},
   "outputs": [],
   "source": [
    "pbt_df.describe()"
   ]
  },
  {
   "cell_type": "code",
   "execution_count": null,
   "id": "26c4f93e",
   "metadata": {},
   "outputs": [],
   "source": [
    "#Bar Graph for PBT\n",
    "plt.bar(pbt_df.Year, pbt_df.Metric_Tons)\n",
    "plt.xlabel('Year')\n",
    "plt.ylabel('Metric Tons')\n",
    "plt.show()"
   ]
  },
  {
   "cell_type": "code",
   "execution_count": null,
   "id": "d0e2be62",
   "metadata": {},
   "outputs": [],
   "source": [
    "pwaste_df = pd.read_csv(r\"C:\\Users\\mommy\\Repositories\\Dev\\Analysis Projects\\Ocean_Plastic_Pollution\\Resources\\Raw_Data\\2021_2016_2010.csv\")\n",
    "pwaste_df"
   ]
  },
  {
   "cell_type": "code",
   "execution_count": null,
   "id": "b7a78f1d",
   "metadata": {},
   "outputs": [],
   "source": [
    "pwaste_df.sort_values('mpw_oceans_2021', ascending=False)"
   ]
  },
  {
   "cell_type": "code",
   "execution_count": null,
   "id": "66e30258",
   "metadata": {},
   "outputs": [],
   "source": [
    "pwaste_df.describe()"
   ]
  },
  {
   "cell_type": "code",
   "execution_count": null,
   "id": "890994c3",
   "metadata": {},
   "outputs": [],
   "source": [
    "GDP_population_df = pd.read_csv(r\"C:\\Users\\mommy\\Repositories\\Dev\\Analysis Projects\\Ocean_Plastic_Pollution\\Resources\\Raw_Data\\2010_per-capita-plastic-waste-vs-gdp-per-capita.csv\")\n",
    "GDP_population_df"
   ]
  },
  {
   "cell_type": "code",
   "execution_count": null,
   "id": "476f8a13",
   "metadata": {},
   "outputs": [],
   "source": [
    "GDP_population_df = GDP_population_df.drop(columns=['Per capita plastic waste (kg/person/day)', 'Code', 'Continent'], axis=1)\n",
    "GDP_population_df"
   ]
  },
  {
   "cell_type": "code",
   "execution_count": null,
   "id": "998be21a",
   "metadata": {},
   "outputs": [],
   "source": [
    "GDP_population_df.Year.unique()"
   ]
  },
  {
   "cell_type": "code",
   "execution_count": null,
   "id": "1126b727",
   "metadata": {},
   "outputs": [],
   "source": [
    "GDP_population_df = GDP_population_df.loc[GDP_population_df['Year'].isin([2016, 2017, 2018, 2019, 2020])]\n",
    "GDP_population_df"
   ]
  },
  {
   "cell_type": "code",
   "execution_count": null,
   "id": "b293abb8",
   "metadata": {},
   "outputs": [],
   "source": [
    "GDP_population_df = GDP_population_df.rename(columns={\"GDP per capita, PPP (constant 2017 international $)\": \"GDP_per_capita\", \"Population (historical estimates)\": \"Population\", \"Entity\" : \"Country\"})\n",
    "GDP_population_df"
   ]
  },
  {
   "cell_type": "code",
   "execution_count": null,
   "id": "2a047c6e",
   "metadata": {},
   "outputs": [],
   "source": [
    "GDP_population_df.describe()"
   ]
  },
  {
   "cell_type": "code",
   "execution_count": null,
   "id": "68d103c6",
   "metadata": {},
   "outputs": [],
   "source": [
    "GDP_population_df['GDP_per_capita'].nlargest(n=10)"
   ]
  },
  {
   "cell_type": "code",
   "execution_count": null,
   "id": "75ad7935",
   "metadata": {},
   "outputs": [],
   "source": [
    "GDP_population_df.sort_values('GDP_per_capita', ascending=True)"
   ]
  },
  {
   "cell_type": "code",
   "execution_count": null,
   "id": "f46ae33d",
   "metadata": {},
   "outputs": [],
   "source": [
    "GDP_population_df.sort_values('Population', ascending=False).head(60)\n"
   ]
  },
  {
   "cell_type": "code",
   "execution_count": null,
   "id": "64095430",
   "metadata": {},
   "outputs": [],
   "source": [
    "list_countries_df = GDP_population_df.loc[GDP_population_df['Country'].isin(['Saint Kitts and Nevis', 'United Arab Emirates', 'Indonesia', 'Seychelles', 'Nigeria', 'United States of America', 'Australia', 'Russia', 'Russian Federation', 'Germany', 'United States', 'China', 'Philippines', 'Brazil', 'Argentina'])]\n",
    "# list_countries.values.tolist()\n",
    "list_countries_df"
   ]
  },
  {
   "cell_type": "code",
   "execution_count": null,
   "id": "f99e5067",
   "metadata": {},
   "outputs": [],
   "source": [
    "GDP_population_uniques = pd.DataFrame(GDP_population_df.Country.unique())\n",
    "GDP_population_uniques"
   ]
  },
  {
   "cell_type": "code",
   "execution_count": null,
   "id": "5e2aca10",
   "metadata": {},
   "outputs": [],
   "source": [
    "list_countries_df"
   ]
  },
  {
   "cell_type": "code",
   "execution_count": null,
   "id": "ca65573f",
   "metadata": {},
   "outputs": [],
   "source": [
    "list_countries_df.describe()\n"
   ]
  },
  {
   "cell_type": "code",
   "execution_count": null,
   "id": "57f28871",
   "metadata": {},
   "outputs": [],
   "source": [
    "GDP_population_uniques.values.tolist()"
   ]
  },
  {
   "cell_type": "code",
   "execution_count": null,
   "id": "6a268d93",
   "metadata": {},
   "outputs": [],
   "source": [
    "income_df = GDP_population_df.loc[GDP_population_df['Country'].isin(['High income', 'Low and middle income', 'Low income', \\\n",
    "                                    'Lower middle income', 'Middle income', 'Upper middle income'])]\n",
    "# income_df.values.tolist()\n",
    "income_df"
   ]
  },
  {
   "cell_type": "code",
   "execution_count": null,
   "id": "57fae6a5",
   "metadata": {},
   "outputs": [],
   "source": [
    "income_df = income_df.drop(columns=['Population'], axis=1)\n",
    "income_df"
   ]
  },
  {
   "cell_type": "code",
   "execution_count": null,
   "id": "fea16565",
   "metadata": {},
   "outputs": [],
   "source": [
    "income_df.describe()"
   ]
  },
  {
   "cell_type": "code",
   "execution_count": null,
   "id": "8a820434",
   "metadata": {},
   "outputs": [],
   "source": [
    "# Load plastic-waste-per-capita file from 2010\n",
    "pwaste_per_cap_df = pd.read_csv(r\"C:\\Users\\mommy\\Repositories\\Dev\\Analysis Projects\\Ocean_Plastic_Pollution\\Resources\\Raw_Data\\plastic-waste-per-capita.csv\")\n",
    "# pwaste_per_cap_df.values.tolist()\n",
    "pwaste_per_cap_df"
   ]
  },
  {
   "cell_type": "code",
   "execution_count": null,
   "id": "6d7412c0",
   "metadata": {},
   "outputs": [],
   "source": [
    "pwaste_per_cap_df.Entity.unique()"
   ]
  },
  {
   "cell_type": "code",
   "execution_count": null,
   "id": "db3d1a0b",
   "metadata": {},
   "outputs": [],
   "source": [
    "# Load Mismanaged Plastic Waste Per Capita 2019\n",
    "mm_pw_pc = pd.read_csv(r\"C:\\Users\\mommy\\Repositories\\Dev\\Analysis Projects\\Ocean_Plastic_Pollution\\Resources\\Raw_Data\\mismanaged-plastic-waste-per-capita.csv\")\n",
    "mm_pw_pc"
   ]
  },
  {
   "cell_type": "code",
   "execution_count": null,
   "id": "012b0ac6",
   "metadata": {},
   "outputs": [],
   "source": [
    "# Load per-capita-mismanaged-plastic-waste-vs-gdp-per-capita.csv\n",
    "pc_mm_pw_vs_gdp = pd.read_csv(r\"C:\\Users\\mommy\\Repositories\\Dev\\Analysis Projects\\Ocean_Plastic_Pollution\\Resources\\Raw_Data\\per-capita-mismanaged-plastic-waste-vs-gdp-per-capita.csv\")\n",
    "pc_mm_pw_vs_gdp"
   ]
  },
  {
   "cell_type": "code",
   "execution_count": null,
   "id": "cf4ada0b",
   "metadata": {},
   "outputs": [],
   "source": [
    "# Find unique years in pc_mm_pw_vs_gdp df\n",
    "\n",
    "pc_mm_pw_vs_gdp.Year.unique()"
   ]
  },
  {
   "cell_type": "code",
   "execution_count": null,
   "id": "2f9d42b0",
   "metadata": {},
   "outputs": [],
   "source": [
    "pc_mm_pw_vs_gdp_df = pc_mm_pw_vs_gdp.loc[pc_mm_pw_vs_gdp['Year'].isin([2017, 2018, 2019, 2020])]\n",
    "pc_mm_pw_vs_gdp_df"
   ]
  },
  {
   "cell_type": "code",
   "execution_count": null,
   "id": "aec5743d",
   "metadata": {},
   "outputs": [],
   "source": [
    "total_plastic_prod = pd.read_csv(r\"C:\\Users\\mommy\\Repositories\\Dev\\Analysis Projects\\Ocean_Plastic_Pollution\\Resources\\Raw_Data\\global-plastics-production.csv\")\n",
    "total_plastic_prod"
   ]
  },
  {
   "cell_type": "code",
   "execution_count": null,
   "id": "b581e3af",
   "metadata": {},
   "outputs": [],
   "source": [
    "total_plastic_prod_df = total_plastic_prod.loc[total_plastic_prod['Year'].isin([2010, 2011, 2012, 2013, 2014, 2015])]\n",
    "total_plastic_prod_df"
   ]
  },
  {
   "cell_type": "code",
   "execution_count": null,
   "id": "0979327a",
   "metadata": {},
   "outputs": [],
   "source": [
    "pbt_df.Country.unique()"
   ]
  },
  {
   "cell_type": "code",
   "execution_count": null,
   "id": "2ce5c9fd",
   "metadata": {},
   "outputs": [],
   "source": [
    "pbt_countries_df = pbt_df.loc[pbt_df['Country'].isin(['Saint Kitts and Nevis', 'United Arab Emirates', 'Indonesia', 'Seychelles', 'Nigeria', 'United States of America', 'Australia', 'Russia', 'Russian Federation', 'Germany', 'United States', 'China', 'Philippines', 'Brazil', 'Argentina'])]\n",
    "pbt_countries_df.values.tolist()"
   ]
  },
  {
   "cell_type": "code",
   "execution_count": null,
   "id": "4aa907cc",
   "metadata": {},
   "outputs": [],
   "source": [
    "#Bar Graph for PBT\n",
    "plt.scatter(pbt_countries_df.Country, pbt_countries_df.Metric_Tons)\n",
    "plt.xlabel('Country')\n",
    "plt.ylabel('Metric Tons')\n",
    "plt.xticks(rotation=90, ha='right')\n",
    "# plt.rcParams[\"figure.figsize\"] = [70.50, 50.50]\n",
    "# plt.rcParams[\"figure.autolayout\"] = True\n",
    "# plt.rcParams[\"font.size\"] = \"50\"\n",
    "plt.show()"
   ]
  },
  {
   "cell_type": "code",
   "execution_count": null,
   "id": "7ac0cc8c",
   "metadata": {},
   "outputs": [],
   "source": [
    "#Bar Graph for PBT\n",
    "plt.bar(pbt_countries_df.Country, pbt_countries_df.Metric_Tons)\n",
    "plt.xlabel('Country')\n",
    "plt.ylabel('Metric Tons')\n",
    "plt.xticks(rotation=90, ha='right')\n",
    "# plt.rcParams[\"figure.figsize\"] = [70.50, 50.50]\n",
    "# plt.rcParams[\"figure.autolayout\"] = True\n",
    "# plt.rcParams[\"font.size\"] = \"50\"\n",
    "plt.show()"
   ]
  },
  {
   "cell_type": "code",
   "execution_count": null,
   "id": "d1041506",
   "metadata": {},
   "outputs": [],
   "source": [
    "# Merge all relevant dataframes for years 2017-2020\n",
    "\n",
    "countries_GDP_MT = pd.merge(list_countries_df, pbt_countries_df, on=['Country', 'Year'], how='inner')\n",
    "countries_GDP_MT"
   ]
  },
  {
   "cell_type": "code",
   "execution_count": null,
   "id": "2fac55e6",
   "metadata": {},
   "outputs": [],
   "source": [
    "global_total_df = pd.read_csv(r\"C:\\Users\\mommy\\Repositories\\Dev\\Analysis Projects\\Ocean_Plastic_Pollution\\Resources\\Raw_Data\\mismanaged-waste-global-total.csv\")\n",
    "global_total_df"
   ]
  },
  {
   "cell_type": "code",
   "execution_count": null,
   "id": "016cab7a",
   "metadata": {},
   "outputs": [],
   "source": [
    "countries_GDP_MT.to_csv(\"Resources\\Raw_Data\\countries_GDP_MT.csv\")"
   ]
  }
 ],
 "metadata": {
  "kernelspec": {
   "display_name": "mlenv",
   "language": "python",
   "name": "mlenv"
  },
  "language_info": {
   "codemirror_mode": {
    "name": "ipython",
    "version": 3
   },
   "file_extension": ".py",
   "mimetype": "text/x-python",
   "name": "python",
   "nbconvert_exporter": "python",
   "pygments_lexer": "ipython3",
   "version": "3.7.13"
  }
 },
 "nbformat": 4,
 "nbformat_minor": 5
}
